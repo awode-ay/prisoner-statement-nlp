{
  "nbformat": 4,
  "nbformat_minor": 0,
  "metadata": {
    "colab": {
      "provenance": []
    },
    "kernelspec": {
      "name": "python3",
      "display_name": "Python 3"
    },
    "language_info": {
      "name": "python"
    }
  },
  "cells": [
    {
      "cell_type": "code",
      "source": [
        "import re\n",
        "import string\n",
        "import numpy as np\n",
        "import pandas as pd\n",
        "\n",
        "import nltk\n",
        "from nltk.corpus import wordnet\n",
        "from nltk.corpus import stopwords\n",
        "from nltk.stem import WordNetLemmatizer\n",
        "nltk.download('wordnet')\n",
        "nltk.download('stopwords')\n",
        "\n",
        "import seaborn as sns\n",
        "import plotly.express as px\n",
        "import matplotlib.pyplot as plt\n",
        "from wordcloud import WordCloud\n",
        "import plotly.graph_objects as go\n",
        "\n",
        "from sklearn import metrics\n",
        "from sklearn.metrics import ConfusionMatrixDisplay,confusion_matrix\n",
        "from sklearn.linear_model import LogisticRegression\n",
        "from sklearn.model_selection import train_test_split\n",
        "from sklearn.feature_extraction.text import CountVectorizer"
      ],
      "metadata": {
        "colab": {
          "base_uri": "https://localhost:8080/"
        },
        "id": "BVhYrTFVO_dd",
        "outputId": "41f0afd8-d2c8-4288-87d0-2eff6db05a3d"
      },
      "execution_count": 65,
      "outputs": [
        {
          "output_type": "stream",
          "name": "stderr",
          "text": [
            "[nltk_data] Downloading package wordnet to /root/nltk_data...\n",
            "[nltk_data]   Package wordnet is already up-to-date!\n",
            "[nltk_data] Downloading package stopwords to /root/nltk_data...\n",
            "[nltk_data]   Package stopwords is already up-to-date!\n"
          ]
        }
      ]
    },
    {
      "cell_type": "code",
      "source": [
        "import re\n",
        "import nltk\n",
        "from nltk.corpus import stopwords\n",
        "nltk.download('stopwords')\n",
        "from nltk.tokenize import word_tokenize\n",
        "nltk.download('punkt')"
      ],
      "metadata": {
        "colab": {
          "base_uri": "https://localhost:8080/"
        },
        "id": "cD96z1ph8kzD",
        "outputId": "fb589eed-c976-457a-99ae-3a3cdc4a525f"
      },
      "execution_count": 60,
      "outputs": [
        {
          "output_type": "stream",
          "name": "stderr",
          "text": [
            "[nltk_data] Downloading package stopwords to /root/nltk_data...\n",
            "[nltk_data]   Package stopwords is already up-to-date!\n",
            "[nltk_data] Downloading package punkt to /root/nltk_data...\n",
            "[nltk_data]   Package punkt is already up-to-date!\n"
          ]
        },
        {
          "output_type": "execute_result",
          "data": {
            "text/plain": [
              "True"
            ]
          },
          "metadata": {},
          "execution_count": 60
        }
      ]
    },
    {
      "cell_type": "code",
      "source": [
        "import nltk\n",
        "nltk.download('vader_lexicon')\n",
        "from nltk.sentiment.vader import SentimentIntensityAnalyzer\n",
        "\n",
        "sid = SentimentIntensityAnalyzer()"
      ],
      "metadata": {
        "colab": {
          "base_uri": "https://localhost:8080/"
        },
        "id": "PaAhVLks-Lgh",
        "outputId": "5dbcee16-e376-4bb1-934f-b31d679accf7"
      },
      "execution_count": 48,
      "outputs": [
        {
          "output_type": "stream",
          "name": "stderr",
          "text": [
            "[nltk_data] Downloading package vader_lexicon to /root/nltk_data...\n",
            "[nltk_data]   Package vader_lexicon is already up-to-date!\n"
          ]
        }
      ]
    },
    {
      "cell_type": "code",
      "execution_count": 49,
      "metadata": {
        "id": "-qjbY00250cF"
      },
      "outputs": [],
      "source": [
        "import pandas as pd\n",
        "pd.set_option('display.max_columns', None)\n",
        "import numpy as np\n",
        "\n",
        "import warnings\n",
        "warnings.filterwarnings('ignore')\n",
        "\n",
        "import matplotlib.pyplot as plt\n",
        "plt.style.use('fivethirtyeight')\n",
        "\n",
        "import seaborn as sns"
      ]
    },
    {
      "cell_type": "code",
      "source": [
        "import ssl\n",
        "ssl._create_default_https_context = ssl._create_unverified_context\n",
        "df = pd.read_html(\"https://www.tdcj.texas.gov/death_row/dr_executed_offenders.html\")[0]\n",
        "df = df[[\"Age\",\"Race\",\"County\"]]\n",
        "df.info()"
      ],
      "metadata": {
        "colab": {
          "base_uri": "https://localhost:8080/"
        },
        "id": "fA5JhWJYXlcW",
        "outputId": "09f0c951-a776-432c-e338-49c5d5e8cc08"
      },
      "execution_count": 50,
      "outputs": [
        {
          "output_type": "stream",
          "name": "stdout",
          "text": [
            "<class 'pandas.core.frame.DataFrame'>\n",
            "RangeIndex: 578 entries, 0 to 577\n",
            "Data columns (total 3 columns):\n",
            " #   Column  Non-Null Count  Dtype \n",
            "---  ------  --------------  ----- \n",
            " 0   Age     578 non-null    int64 \n",
            " 1   Race    578 non-null    object\n",
            " 2   County  578 non-null    object\n",
            "dtypes: int64(1), object(2)\n",
            "memory usage: 13.7+ KB\n"
          ]
        }
      ]
    },
    {
      "cell_type": "code",
      "source": [
        "sns.displot(df[\"Age\"])"
      ],
      "metadata": {
        "colab": {
          "base_uri": "https://localhost:8080/",
          "height": 379
        },
        "id": "EE1bNHzpczDL",
        "outputId": "13b732c9-dcbd-418b-db2a-dd2156e04b1b"
      },
      "execution_count": 51,
      "outputs": [
        {
          "output_type": "execute_result",
          "data": {
            "text/plain": [
              "<seaborn.axisgrid.FacetGrid at 0x7f1086234d30>"
            ]
          },
          "metadata": {},
          "execution_count": 51
        },
        {
          "output_type": "display_data",
          "data": {
            "text/plain": [
              "<Figure size 360x360 with 1 Axes>"
            ],
            "image/png": "[encoded data removed]"
          },
          "metadata": {}
        }
      ]
    },
    {
      "cell_type": "code",
      "source": [
        "sns.countplot(df[\"Race\"])"
      ],
      "metadata": {
        "colab": {
          "base_uri": "https://localhost:8080/",
          "height": 322
        },
        "id": "KJ7tUpNwc9Ed",
        "outputId": "bd416703-4fa8-4f7f-eb07-539145d32b1c"
      },
      "execution_count": 52,
      "outputs": [
        {
          "output_type": "execute_result",
          "data": {
            "text/plain": [
              "<matplotlib.axes._subplots.AxesSubplot at 0x7f107961bee0>"
            ]
          },
          "metadata": {},
          "execution_count": 52
        },
        {
          "output_type": "display_data",
          "data": {
            "text/plain": [
              "<Figure size 432x288 with 1 Axes>"
            ],
            "image/png": "[encoded data removed]"
          },
          "metadata": {}
        }
      ]
    },
    {
      "cell_type": "code",
      "source": [
        "from google.colab import files\n",
        "uploaded = files.upload()"
      ],
      "metadata": {
        "colab": {
          "base_uri": "https://localhost:8080/",
          "height": 73
        },
        "id": "TVQ1PK468P8A",
        "outputId": "68e3030f-be3b-41fd-9568-c70163466c1d"
      },
      "execution_count": 53,
      "outputs": [
        {
          "output_type": "display_data",
          "data": {
            "text/plain": [
              "<IPython.core.display.HTML object>"
            ],
            "text/html": [
              "\n",
              "     <input type=\"file\" id=\"files-d0768347-275b-4cc3-9dd7-71170f86341c\" name=\"files[]\" multiple disabled\n",
              "        style=\"border:none\" />\n",
              "     <output id=\"result-d0768347-275b-4cc3-9dd7-71170f86341c\">\n",
              "      Upload widget is only available when the cell has been executed in the\n",
              "      current browser session. Please rerun this cell to enable.\n",
              "      </output>\n",
              "      <script>// Copyright 2017 Google LLC\n",
              "//\n",
              "// Licensed under the Apache License, Version 2.0 (the \"License\");\n",
              "// you may not use this file except in compliance with the License.\n",
              "// You may obtain a copy of the License at\n",
              "//\n",
              "//      http://www.apache.org/licenses/LICENSE-2.0\n",
              "//\n",
              "// Unless required by applicable law or agreed to in writing, software\n",
              "// distributed under the License is distributed on an \"AS IS\" BASIS,\n",
              "// WITHOUT WARRANTIES OR CONDITIONS OF ANY KIND, either express or implied.\n",
              "// See the License for the specific language governing permissions and\n",
              "// limitations under the License.\n",
              "\n",
              "/**\n",
              " * @fileoverview Helpers for google.colab Python module.\n",
              " */\n",
              "(function(scope) {\n",
              "function span(text, styleAttributes = {}) {\n",
              "  const element = document.createElement('span');\n",
              "  element.textContent = text;\n",
              "  for (const key of Object.keys(styleAttributes)) {\n",
              "    element.style[key] = styleAttributes[key];\n",
              "  }\n",
              "  return element;\n",
              "}\n",
              "\n",
              "// Max number of bytes which will be uploaded at a time.\n",
              "const MAX_PAYLOAD_SIZE = 100 * 1024;\n",
              "\n",
              "function _uploadFiles(inputId, outputId) {\n",
              "  const steps = uploadFilesStep(inputId, outputId);\n",
              "  const outputElement = document.getElementById(outputId);\n",
              "  // Cache steps on the outputElement to make it available for the next call\n",
              "  // to uploadFilesContinue from Python.\n",
              "  outputElement.steps = steps;\n",
              "\n",
              "  return _uploadFilesContinue(outputId);\n",
              "}\n",
              "\n",
              "// This is roughly an async generator (not supported in the browser yet),\n",
              "// where there are multiple asynchronous steps and the Python side is going\n",
              "// to poll for completion of each step.\n",
              "// This uses a Promise to block the python side on completion of each step,\n",
              "// then passes the result of the previous step as the input to the next step.\n",
              "function _uploadFilesContinue(outputId) {\n",
              "  const outputElement = document.getElementById(outputId);\n",
              "  const steps = outputElement.steps;\n",
              "\n",
              "  const next = steps.next(outputElement.lastPromiseValue);\n",
              "  return Promise.resolve(next.value.promise).then((value) => {\n",
              "    // Cache the last promise value to make it available to the next\n",
              "    // step of the generator.\n",
              "    outputElement.lastPromiseValue = value;\n",
              "    return next.value.response;\n",
              "  });\n",
              "}\n",
              "\n",
              "/**\n",
              " * Generator function which is called between each async step of the upload\n",
              " * process.\n",
              " * @param {string} inputId Element ID of the input file picker element.\n",
              " * @param {string} outputId Element ID of the output display.\n",
              " * @return {!Iterable<!Object>} Iterable of next steps.\n",
              " */\n",
              "function* uploadFilesStep(inputId, outputId) {\n",
              "  const inputElement = document.getElementById(inputId);\n",
              "  inputElement.disabled = false;\n",
              "\n",
              "  const outputElement = document.getElementById(outputId);\n",
              "  outputElement.innerHTML = '';\n",
              "\n",
              "  const pickedPromise = new Promise((resolve) => {\n",
              "    inputElement.addEventListener('change', (e) => {\n",
              "      resolve(e.target.files);\n",
              "    });\n",
              "  });\n",
              "\n",
              "  const cancel = document.createElement('button');\n",
              "  inputElement.parentElement.appendChild(cancel);\n",
              "  cancel.textContent = 'Cancel upload';\n",
              "  const cancelPromise = new Promise((resolve) => {\n",
              "    cancel.onclick = () => {\n",
              "      resolve(null);\n",
              "    };\n",
              "  });\n",
              "\n",
              "  // Wait for the user to pick the files.\n",
              "  const files = yield {\n",
              "    promise: Promise.race([pickedPromise, cancelPromise]),\n",
              "    response: {\n",
              "      action: 'starting',\n",
              "    }\n",
              "  };\n",
              "\n",
              "  cancel.remove();\n",
              "\n",
              "  // Disable the input element since further picks are not allowed.\n",
              "  inputElement.disabled = true;\n",
              "\n",
              "  if (!files) {\n",
              "    return {\n",
              "      response: {\n",
              "        action: 'complete',\n",
              "      }\n",
              "    };\n",
              "  }\n",
              "\n",
              "  for (const file of files) {\n",
              "    const li = document.createElement('li');\n",
              "    li.append(span(file.name, {fontWeight: 'bold'}));\n",
              "    li.append(span(\n",
              "        `(${file.type || 'n/a'}) - ${file.size} bytes, ` +\n",
              "        `last modified: ${\n",
              "            file.lastModifiedDate ? file.lastModifiedDate.toLocaleDateString() :\n",
              "                                    'n/a'} - `));\n",
              "    const percent = span('0% done');\n",
              "    li.appendChild(percent);\n",
              "\n",
              "    outputElement.appendChild(li);\n",
              "\n",
              "    const fileDataPromise = new Promise((resolve) => {\n",
              "      const reader = new FileReader();\n",
              "      reader.onload = (e) => {\n",
              "        resolve(e.target.result);\n",
              "      };\n",
              "      reader.readAsArrayBuffer(file);\n",
              "    });\n",
              "    // Wait for the data to be ready.\n",
              "    let fileData = yield {\n",
              "      promise: fileDataPromise,\n",
              "      response: {\n",
              "        action: 'continue',\n",
              "      }\n",
              "    };\n",
              "\n",
              "    // Use a chunked sending to avoid message size limits. See b/62115660.\n",
              "    let position = 0;\n",
              "    do {\n",
              "      const length = Math.min(fileData.byteLength - position, MAX_PAYLOAD_SIZE);\n",
              "      const chunk = new Uint8Array(fileData, position, length);\n",
              "      position += length;\n",
              "\n",
              "      const base64 = btoa(String.fromCharCode.apply(null, chunk));\n",
              "      yield {\n",
              "        response: {\n",
              "          action: 'append',\n",
              "          file: file.name,\n",
              "          data: base64,\n",
              "        },\n",
              "      };\n",
              "\n",
              "      let percentDone = fileData.byteLength === 0 ?\n",
              "          100 :\n",
              "          Math.round((position / fileData.byteLength) * 100);\n",
              "      percent.textContent = `${percentDone}% done`;\n",
              "\n",
              "    } while (position < fileData.byteLength);\n",
              "  }\n",
              "\n",
              "  // All done.\n",
              "  yield {\n",
              "    response: {\n",
              "      action: 'complete',\n",
              "    }\n",
              "  };\n",
              "}\n",
              "\n",
              "scope.google = scope.google || {};\n",
              "scope.google.colab = scope.google.colab || {};\n",
              "scope.google.colab._files = {\n",
              "  _uploadFiles,\n",
              "  _uploadFilesContinue,\n",
              "};\n",
              "})(self);\n",
              "</script> "
            ]
          },
          "metadata": {}
        },
        {
          "output_type": "stream",
          "name": "stdout",
          "text": [
            "Saving prisonerstatement.csv to prisonerstatement (1).csv\n"
          ]
        }
      ]
    },
    {
      "cell_type": "code",
      "source": [
        "import io\n",
        "data = pd.read_csv(io.BytesIO(uploaded[\"prisonerstatement.csv\"]))\n",
        "data['last statement']"
      ],
      "metadata": {
        "colab": {
          "base_uri": "https://localhost:8080/"
        },
        "id": "KAaYiRTG8cw7",
        "outputId": "606be369-7869-43b4-ca9c-3f9e8d7326bc"
      },
      "execution_count": 54,
      "outputs": [
        {
          "output_type": "execute_result",
          "data": {
            "text/plain": [
              "0      Statement to the Media: I, at this very moment...\n",
              "1      What is about to transpire in a few moments is...\n",
              "2      When asked if he had a last statement, he repl...\n",
              "3      I pray that my family will rejoice and will fo...\n",
              "4      Heavenly Father, I give thanks for this time, ...\n",
              "                             ...                        \n",
              "472    Ok to start with I would like to thank everyon...\n",
              "473    I would like to thank my  Jesus Christ my Lord...\n",
              "474    I just want to say to  the family of Pablo Cas...\n",
              "475    Yes, I just want to  thank (pause) I don’t wan...\n",
              "476    I want to take this moment to be shared with e...\n",
              "Name: last statement, Length: 477, dtype: object"
            ]
          },
          "metadata": {},
          "execution_count": 54
        }
      ]
    },
    {
      "cell_type": "code",
      "source": [
        "data = data.astype({'last statement':'string'})"
      ],
      "metadata": {
        "id": "kHSt9Qr59x8w"
      },
      "execution_count": 55,
      "outputs": []
    },
    {
      "cell_type": "code",
      "source": [
        "data[\"text\"] = data[\"last statement\"]"
      ],
      "metadata": {
        "id": "L7K0DSJB_wph"
      },
      "execution_count": 56,
      "outputs": []
    },
    {
      "cell_type": "code",
      "source": [
        "data[\"text\"]"
      ],
      "metadata": {
        "colab": {
          "base_uri": "https://localhost:8080/"
        },
        "id": "v0wAsRs_oqjY",
        "outputId": "7704351e-7ded-4f6d-a5e6-edfde8c8dd05"
      },
      "execution_count": 57,
      "outputs": [
        {
          "output_type": "execute_result",
          "data": {
            "text/plain": [
              "0      Statement to the Media: I, at this very moment...\n",
              "1      What is about to transpire in a few moments is...\n",
              "2      When asked if he had a last statement, he repl...\n",
              "3      I pray that my family will rejoice and will fo...\n",
              "4      Heavenly Father, I give thanks for this time, ...\n",
              "                             ...                        \n",
              "472    Ok to start with I would like to thank everyon...\n",
              "473    I would like to thank my  Jesus Christ my Lord...\n",
              "474    I just want to say to  the family of Pablo Cas...\n",
              "475    Yes, I just want to  thank (pause) I don’t wan...\n",
              "476    I want to take this moment to be shared with e...\n",
              "Name: text, Length: 477, dtype: string"
            ]
          },
          "metadata": {},
          "execution_count": 57
        }
      ]
    },
    {
      "cell_type": "code",
      "source": [
        "data.dropna(inplace=True)"
      ],
      "metadata": {
        "id": "9G7ZxH1vAPXH"
      },
      "execution_count": 58,
      "outputs": []
    },
    {
      "cell_type": "code",
      "source": [
        "data.isnull().sum()\n"
      ],
      "metadata": {
        "colab": {
          "base_uri": "https://localhost:8080/"
        },
        "id": "p-r0hmozB866",
        "outputId": "ab6d94f0-21af-48c4-f597-166342fe4ddb"
      },
      "execution_count": 59,
      "outputs": [
        {
          "output_type": "execute_result",
          "data": {
            "text/plain": [
              "web-scraper-order        0\n",
              "web-scraper-start-url    0\n",
              "link                     0\n",
              "link-href                0\n",
              "last statement           0\n",
              "text                     0\n",
              "dtype: int64"
            ]
          },
          "metadata": {},
          "execution_count": 59
        }
      ]
    },
    {
      "cell_type": "code",
      "source": [
        "data['sentiment_scores'] = data['text'].apply(lambda text: sid.polarity_scores(text))\n",
        "data.head()"
      ],
      "metadata": {
        "colab": {
          "base_uri": "https://localhost:8080/",
          "height": 441
        },
        "id": "hm-GCnb9-buX",
        "outputId": "84b85a00-37a5-43f4-bf57-d94415d6505d"
      },
      "execution_count": 61,
      "outputs": [
        {
          "output_type": "execute_result",
          "data": {
            "text/plain": [
              "  web-scraper-order                              web-scraper-start-url  \\\n",
              "0      1672902707-1  https://www.tdcj.texas.gov/death_row/dr_execut...   \n",
              "1      1672902711-2  https://www.tdcj.texas.gov/death_row/dr_execut...   \n",
              "2      1672902715-3  https://www.tdcj.texas.gov/death_row/dr_execut...   \n",
              "3      1672902718-4  https://www.tdcj.texas.gov/death_row/dr_execut...   \n",
              "4      1672902722-5  https://www.tdcj.texas.gov/death_row/dr_execut...   \n",
              "\n",
              "             link                                          link-href  \\\n",
              "0  Last Statement  https://www.tdcj.texas.gov/death_row/dr_info/b...   \n",
              "1  Last Statement  https://www.tdcj.texas.gov/death_row/dr_info/o...   \n",
              "2  Last Statement  https://www.tdcj.texas.gov/death_row/dr_info/b...   \n",
              "3  Last Statement  https://www.tdcj.texas.gov/death_row/dr_info/s...   \n",
              "4  Last Statement  https://www.tdcj.texas.gov/death_row/dr_info/m...   \n",
              "\n",
              "                                      last statement  \\\n",
              "0  Statement to the Media: I, at this very moment...   \n",
              "1  What is about to transpire in a few moments is...   \n",
              "2  When asked if he had a last statement, he repl...   \n",
              "3  I pray that my family will rejoice and will fo...   \n",
              "4  Heavenly Father, I give thanks for this time, ...   \n",
              "\n",
              "                                                text  \\\n",
              "0  Statement to the Media: I, at this very moment...   \n",
              "1  What is about to transpire in a few moments is...   \n",
              "2  When asked if he had a last statement, he repl...   \n",
              "3  I pray that my family will rejoice and will fo...   \n",
              "4  Heavenly Father, I give thanks for this time, ...   \n",
              "\n",
              "                                    sentiment_scores  \n",
              "0  {'neg': 0.104, 'neu': 0.872, 'pos': 0.023, 'co...  \n",
              "1  {'neg': 0.103, 'neu': 0.639, 'pos': 0.259, 'co...  \n",
              "2  {'neg': 0.159, 'neu': 0.706, 'pos': 0.135, 'co...  \n",
              "3  {'neg': 0.0, 'neu': 0.417, 'pos': 0.583, 'comp...  \n",
              "4  {'neg': 0.0, 'neu': 0.698, 'pos': 0.302, 'comp...  "
            ],
            "text/html": [
              "\n",
              "  <div id=\"df-b145499e-6b68-4437-9b5c-0e28c42f64b6\">\n",
              "    <div class=\"colab-df-container\">\n",
              "      <div>\n",
              "<style scoped>\n",
              "    .dataframe tbody tr th:only-of-type {\n",
              "        vertical-align: middle;\n",
              "    }\n",
              "\n",
              "    .dataframe tbody tr th {\n",
              "        vertical-align: top;\n",
              "    }\n",
              "\n",
              "    .dataframe thead th {\n",
              "        text-align: right;\n",
              "    }\n",
              "</style>\n",
              "<table border=\"1\" class=\"dataframe\">\n",
              "  <thead>\n",
              "    <tr style=\"text-align: right;\">\n",
              "      <th></th>\n",
              "      <th>web-scraper-order</th>\n",
              "      <th>web-scraper-start-url</th>\n",
              "      <th>link</th>\n",
              "      <th>link-href</th>\n",
              "      <th>last statement</th>\n",
              "      <th>text</th>\n",
              "      <th>sentiment_scores</th>\n",
              "    </tr>\n",
              "  </thead>\n",
              "  <tbody>\n",
              "    <tr>\n",
              "      <th>0</th>\n",
              "      <td>1672902707-1</td>\n",
              "      <td>https://www.tdcj.texas.gov/death_row/dr_execut...</td>\n",
              "      <td>Last Statement</td>\n",
              "      <td>https://www.tdcj.texas.gov/death_row/dr_info/b...</td>\n",
              "      <td>Statement to the Media: I, at this very moment...</td>\n",
              "      <td>Statement to the Media: I, at this very moment...</td>\n",
              "      <td>{'neg': 0.104, 'neu': 0.872, 'pos': 0.023, 'co...</td>\n",
              "    </tr>\n",
              "    <tr>\n",
              "      <th>1</th>\n",
              "      <td>1672902711-2</td>\n",
              "      <td>https://www.tdcj.texas.gov/death_row/dr_execut...</td>\n",
              "      <td>Last Statement</td>\n",
              "      <td>https://www.tdcj.texas.gov/death_row/dr_info/o...</td>\n",
              "      <td>What is about to transpire in a few moments is...</td>\n",
              "      <td>What is about to transpire in a few moments is...</td>\n",
              "      <td>{'neg': 0.103, 'neu': 0.639, 'pos': 0.259, 'co...</td>\n",
              "    </tr>\n",
              "    <tr>\n",
              "      <th>2</th>\n",
              "      <td>1672902715-3</td>\n",
              "      <td>https://www.tdcj.texas.gov/death_row/dr_execut...</td>\n",
              "      <td>Last Statement</td>\n",
              "      <td>https://www.tdcj.texas.gov/death_row/dr_info/b...</td>\n",
              "      <td>When asked if he had a last statement, he repl...</td>\n",
              "      <td>When asked if he had a last statement, he repl...</td>\n",
              "      <td>{'neg': 0.159, 'neu': 0.706, 'pos': 0.135, 'co...</td>\n",
              "    </tr>\n",
              "    <tr>\n",
              "      <th>3</th>\n",
              "      <td>1672902718-4</td>\n",
              "      <td>https://www.tdcj.texas.gov/death_row/dr_execut...</td>\n",
              "      <td>Last Statement</td>\n",
              "      <td>https://www.tdcj.texas.gov/death_row/dr_info/s...</td>\n",
              "      <td>I pray that my family will rejoice and will fo...</td>\n",
              "      <td>I pray that my family will rejoice and will fo...</td>\n",
              "      <td>{'neg': 0.0, 'neu': 0.417, 'pos': 0.583, 'comp...</td>\n",
              "    </tr>\n",
              "    <tr>\n",
              "      <th>4</th>\n",
              "      <td>1672902722-5</td>\n",
              "      <td>https://www.tdcj.texas.gov/death_row/dr_execut...</td>\n",
              "      <td>Last Statement</td>\n",
              "      <td>https://www.tdcj.texas.gov/death_row/dr_info/m...</td>\n",
              "      <td>Heavenly Father, I give thanks for this time, ...</td>\n",
              "      <td>Heavenly Father, I give thanks for this time, ...</td>\n",
              "      <td>{'neg': 0.0, 'neu': 0.698, 'pos': 0.302, 'comp...</td>\n",
              "    </tr>\n",
              "  </tbody>\n",
              "</table>\n",
              "</div>\n",
              "      <button class=\"colab-df-convert\" onclick=\"convertToInteractive('df-b145499e-6b68-4437-9b5c-0e28c42f64b6')\"\n",
              "              title=\"Convert this dataframe to an interactive table.\"\n",
              "              style=\"display:none;\">\n",
              "        \n",
              "  <svg xmlns=\"http://www.w3.org/2000/svg\" height=\"24px\"viewBox=\"0 0 24 24\"\n",
              "       width=\"24px\">\n",
              "    <path d=\"M0 0h24v24H0V0z\" fill=\"none\"/>\n",
              "    <path d=\"M18.56 5.44l.94 2.06.94-2.06 2.06-.94-2.06-.94-.94-2.06-.94 2.06-2.06.94zm-11 1L8.5 8.5l.94-2.06 2.06-.94-2.06-.94L8.5 2.5l-.94 2.06-2.06.94zm10 10l.94 2.06.94-2.06 2.06-.94-2.06-.94-.94-2.06-.94 2.06-2.06.94z\"/><path d=\"M17.41 7.96l-1.37-1.37c-.4-.4-.92-.59-1.43-.59-.52 0-1.04.2-1.43.59L10.3 9.45l-7.72 7.72c-.78.78-.78 2.05 0 2.83L4 21.41c.39.39.9.59 1.41.59.51 0 1.02-.2 1.41-.59l7.78-7.78 2.81-2.81c.8-.78.8-2.07 0-2.86zM5.41 20L4 18.59l7.72-7.72 1.47 1.35L5.41 20z\"/>\n",
              "  </svg>\n",
              "      </button>\n",
              "      \n",
              "  <style>\n",
              "    .colab-df-container {\n",
              "      display:flex;\n",
              "      flex-wrap:wrap;\n",
              "      gap: 12px;\n",
              "    }\n",
              "\n",
              "    .colab-df-convert {\n",
              "      background-color: #E8F0FE;\n",
              "      border: none;\n",
              "      border-radius: 50%;\n",
              "      cursor: pointer;\n",
              "      display: none;\n",
              "      fill: #1967D2;\n",
              "      height: 32px;\n",
              "      padding: 0 0 0 0;\n",
              "      width: 32px;\n",
              "    }\n",
              "\n",
              "    .colab-df-convert:hover {\n",
              "      background-color: #E2EBFA;\n",
              "      box-shadow: 0px 1px 2px rgba(60, 64, 67, 0.3), 0px 1px 3px 1px rgba(60, 64, 67, 0.15);\n",
              "      fill: #174EA6;\n",
              "    }\n",
              "\n",
              "    [theme=dark] .colab-df-convert {\n",
              "      background-color: #3B4455;\n",
              "      fill: #D2E3FC;\n",
              "    }\n",
              "\n",
              "    [theme=dark] .colab-df-convert:hover {\n",
              "      background-color: #434B5C;\n",
              "      box-shadow: 0px 1px 3px 1px rgba(0, 0, 0, 0.15);\n",
              "      filter: drop-shadow(0px 1px 2px rgba(0, 0, 0, 0.3));\n",
              "      fill: #FFFFFF;\n",
              "    }\n",
              "  </style>\n",
              "\n",
              "      <script>\n",
              "        const buttonEl =\n",
              "          document.querySelector('#df-b145499e-6b68-4437-9b5c-0e28c42f64b6 button.colab-df-convert');\n",
              "        buttonEl.style.display =\n",
              "          google.colab.kernel.accessAllowed ? 'block' : 'none';\n",
              "\n",
              "        async function convertToInteractive(key) {\n",
              "          const element = document.querySelector('#df-b145499e-6b68-4437-9b5c-0e28c42f64b6');\n",
              "          const dataTable =\n",
              "            await google.colab.kernel.invokeFunction('convertToInteractive',\n",
              "                                                     [key], {});\n",
              "          if (!dataTable) return;\n",
              "\n",
              "          const docLinkHtml = 'Like what you see? Visit the ' +\n",
              "            '<a target=\"_blank\" href=https://colab.research.google.com/notebooks/data_table.ipynb>data table notebook</a>'\n",
              "            + ' to learn more about interactive tables.';\n",
              "          element.innerHTML = '';\n",
              "          dataTable['output_type'] = 'display_data';\n",
              "          await google.colab.output.renderOutput(dataTable, element);\n",
              "          const docLink = document.createElement('div');\n",
              "          docLink.innerHTML = docLinkHtml;\n",
              "          element.appendChild(docLink);\n",
              "        }\n",
              "      </script>\n",
              "    </div>\n",
              "  </div>\n",
              "  "
            ]
          },
          "metadata": {},
          "execution_count": 61
        }
      ]
    },
    {
      "cell_type": "code",
      "source": [
        "data['compound']  = data['sentiment_scores'].apply(lambda score_dict: score_dict['compound'])\n",
        "\n",
        "data.head()"
      ],
      "metadata": {
        "colab": {
          "base_uri": "https://localhost:8080/",
          "height": 476
        },
        "id": "eV-nlUeF_85V",
        "outputId": "b1b275e9-12c6-4d93-ced0-4a4a8ab09d15"
      },
      "execution_count": 62,
      "outputs": [
        {
          "output_type": "execute_result",
          "data": {
            "text/plain": [
              "  web-scraper-order                              web-scraper-start-url  \\\n",
              "0      1672902707-1  https://www.tdcj.texas.gov/death_row/dr_execut...   \n",
              "1      1672902711-2  https://www.tdcj.texas.gov/death_row/dr_execut...   \n",
              "2      1672902715-3  https://www.tdcj.texas.gov/death_row/dr_execut...   \n",
              "3      1672902718-4  https://www.tdcj.texas.gov/death_row/dr_execut...   \n",
              "4      1672902722-5  https://www.tdcj.texas.gov/death_row/dr_execut...   \n",
              "\n",
              "             link                                          link-href  \\\n",
              "0  Last Statement  https://www.tdcj.texas.gov/death_row/dr_info/b...   \n",
              "1  Last Statement  https://www.tdcj.texas.gov/death_row/dr_info/o...   \n",
              "2  Last Statement  https://www.tdcj.texas.gov/death_row/dr_info/b...   \n",
              "3  Last Statement  https://www.tdcj.texas.gov/death_row/dr_info/s...   \n",
              "4  Last Statement  https://www.tdcj.texas.gov/death_row/dr_info/m...   \n",
              "\n",
              "                                      last statement  \\\n",
              "0  Statement to the Media: I, at this very moment...   \n",
              "1  What is about to transpire in a few moments is...   \n",
              "2  When asked if he had a last statement, he repl...   \n",
              "3  I pray that my family will rejoice and will fo...   \n",
              "4  Heavenly Father, I give thanks for this time, ...   \n",
              "\n",
              "                                                text  \\\n",
              "0  Statement to the Media: I, at this very moment...   \n",
              "1  What is about to transpire in a few moments is...   \n",
              "2  When asked if he had a last statement, he repl...   \n",
              "3  I pray that my family will rejoice and will fo...   \n",
              "4  Heavenly Father, I give thanks for this time, ...   \n",
              "\n",
              "                                    sentiment_scores  compound  \n",
              "0  {'neg': 0.104, 'neu': 0.872, 'pos': 0.023, 'co...   -0.8100  \n",
              "1  {'neg': 0.103, 'neu': 0.639, 'pos': 0.259, 'co...    0.9794  \n",
              "2  {'neg': 0.159, 'neu': 0.706, 'pos': 0.135, 'co...   -0.5778  \n",
              "3  {'neg': 0.0, 'neu': 0.417, 'pos': 0.583, 'comp...    0.8316  \n",
              "4  {'neg': 0.0, 'neu': 0.698, 'pos': 0.302, 'comp...    0.9805  "
            ],
            "text/html": [
              "\n",
              "  <div id=\"df-8c2f9459-25ff-4f15-804c-ec9a2ea2e918\">\n",
              "    <div class=\"colab-df-container\">\n",
              "      <div>\n",
              "<style scoped>\n",
              "    .dataframe tbody tr th:only-of-type {\n",
              "        vertical-align: middle;\n",
              "    }\n",
              "\n",
              "    .dataframe tbody tr th {\n",
              "        vertical-align: top;\n",
              "    }\n",
              "\n",
              "    .dataframe thead th {\n",
              "        text-align: right;\n",
              "    }\n",
              "</style>\n",
              "<table border=\"1\" class=\"dataframe\">\n",
              "  <thead>\n",
              "    <tr style=\"text-align: right;\">\n",
              "      <th></th>\n",
              "      <th>web-scraper-order</th>\n",
              "      <th>web-scraper-start-url</th>\n",
              "      <th>link</th>\n",
              "      <th>link-href</th>\n",
              "      <th>last statement</th>\n",
              "      <th>text</th>\n",
              "      <th>sentiment_scores</th>\n",
              "      <th>compound</th>\n",
              "    </tr>\n",
              "  </thead>\n",
              "  <tbody>\n",
              "    <tr>\n",
              "      <th>0</th>\n",
              "      <td>1672902707-1</td>\n",
              "      <td>https://www.tdcj.texas.gov/death_row/dr_execut...</td>\n",
              "      <td>Last Statement</td>\n",
              "      <td>https://www.tdcj.texas.gov/death_row/dr_info/b...</td>\n",
              "      <td>Statement to the Media: I, at this very moment...</td>\n",
              "      <td>Statement to the Media: I, at this very moment...</td>\n",
              "      <td>{'neg': 0.104, 'neu': 0.872, 'pos': 0.023, 'co...</td>\n",
              "      <td>-0.8100</td>\n",
              "    </tr>\n",
              "    <tr>\n",
              "      <th>1</th>\n",
              "      <td>1672902711-2</td>\n",
              "      <td>https://www.tdcj.texas.gov/death_row/dr_execut...</td>\n",
              "      <td>Last Statement</td>\n",
              "      <td>https://www.tdcj.texas.gov/death_row/dr_info/o...</td>\n",
              "      <td>What is about to transpire in a few moments is...</td>\n",
              "      <td>What is about to transpire in a few moments is...</td>\n",
              "      <td>{'neg': 0.103, 'neu': 0.639, 'pos': 0.259, 'co...</td>\n",
              "      <td>0.9794</td>\n",
              "    </tr>\n",
              "    <tr>\n",
              "      <th>2</th>\n",
              "      <td>1672902715-3</td>\n",
              "      <td>https://www.tdcj.texas.gov/death_row/dr_execut...</td>\n",
              "      <td>Last Statement</td>\n",
              "      <td>https://www.tdcj.texas.gov/death_row/dr_info/b...</td>\n",
              "      <td>When asked if he had a last statement, he repl...</td>\n",
              "      <td>When asked if he had a last statement, he repl...</td>\n",
              "      <td>{'neg': 0.159, 'neu': 0.706, 'pos': 0.135, 'co...</td>\n",
              "      <td>-0.5778</td>\n",
              "    </tr>\n",
              "    <tr>\n",
              "      <th>3</th>\n",
              "      <td>1672902718-4</td>\n",
              "      <td>https://www.tdcj.texas.gov/death_row/dr_execut...</td>\n",
              "      <td>Last Statement</td>\n",
              "      <td>https://www.tdcj.texas.gov/death_row/dr_info/s...</td>\n",
              "      <td>I pray that my family will rejoice and will fo...</td>\n",
              "      <td>I pray that my family will rejoice and will fo...</td>\n",
              "      <td>{'neg': 0.0, 'neu': 0.417, 'pos': 0.583, 'comp...</td>\n",
              "      <td>0.8316</td>\n",
              "    </tr>\n",
              "    <tr>\n",
              "      <th>4</th>\n",
              "      <td>1672902722-5</td>\n",
              "      <td>https://www.tdcj.texas.gov/death_row/dr_execut...</td>\n",
              "      <td>Last Statement</td>\n",
              "      <td>https://www.tdcj.texas.gov/death_row/dr_info/m...</td>\n",
              "      <td>Heavenly Father, I give thanks for this time, ...</td>\n",
              "      <td>Heavenly Father, I give thanks for this time, ...</td>\n",
              "      <td>{'neg': 0.0, 'neu': 0.698, 'pos': 0.302, 'comp...</td>\n",
              "      <td>0.9805</td>\n",
              "    </tr>\n",
              "  </tbody>\n",
              "</table>\n",
              "</div>\n",
              "      <button class=\"colab-df-convert\" onclick=\"convertToInteractive('df-8c2f9459-25ff-4f15-804c-ec9a2ea2e918')\"\n",
              "              title=\"Convert this dataframe to an interactive table.\"\n",
              "              style=\"display:none;\">\n",
              "        \n",
              "  <svg xmlns=\"http://www.w3.org/2000/svg\" height=\"24px\"viewBox=\"0 0 24 24\"\n",
              "       width=\"24px\">\n",
              "    <path d=\"M0 0h24v24H0V0z\" fill=\"none\"/>\n",
              "    <path d=\"M18.56 5.44l.94 2.06.94-2.06 2.06-.94-2.06-.94-.94-2.06-.94 2.06-2.06.94zm-11 1L8.5 8.5l.94-2.06 2.06-.94-2.06-.94L8.5 2.5l-.94 2.06-2.06.94zm10 10l.94 2.06.94-2.06 2.06-.94-2.06-.94-.94-2.06-.94 2.06-2.06.94z\"/><path d=\"M17.41 7.96l-1.37-1.37c-.4-.4-.92-.59-1.43-.59-.52 0-1.04.2-1.43.59L10.3 9.45l-7.72 7.72c-.78.78-.78 2.05 0 2.83L4 21.41c.39.39.9.59 1.41.59.51 0 1.02-.2 1.41-.59l7.78-7.78 2.81-2.81c.8-.78.8-2.07 0-2.86zM5.41 20L4 18.59l7.72-7.72 1.47 1.35L5.41 20z\"/>\n",
              "  </svg>\n",
              "      </button>\n",
              "      \n",
              "  <style>\n",
              "    .colab-df-container {\n",
              "      display:flex;\n",
              "      flex-wrap:wrap;\n",
              "      gap: 12px;\n",
              "    }\n",
              "\n",
              "    .colab-df-convert {\n",
              "      background-color: #E8F0FE;\n",
              "      border: none;\n",
              "      border-radius: 50%;\n",
              "      cursor: pointer;\n",
              "      display: none;\n",
              "      fill: #1967D2;\n",
              "      height: 32px;\n",
              "      padding: 0 0 0 0;\n",
              "      width: 32px;\n",
              "    }\n",
              "\n",
              "    .colab-df-convert:hover {\n",
              "      background-color: #E2EBFA;\n",
              "      box-shadow: 0px 1px 2px rgba(60, 64, 67, 0.3), 0px 1px 3px 1px rgba(60, 64, 67, 0.15);\n",
              "      fill: #174EA6;\n",
              "    }\n",
              "\n",
              "    [theme=dark] .colab-df-convert {\n",
              "      background-color: #3B4455;\n",
              "      fill: #D2E3FC;\n",
              "    }\n",
              "\n",
              "    [theme=dark] .colab-df-convert:hover {\n",
              "      background-color: #434B5C;\n",
              "      box-shadow: 0px 1px 3px 1px rgba(0, 0, 0, 0.15);\n",
              "      filter: drop-shadow(0px 1px 2px rgba(0, 0, 0, 0.3));\n",
              "      fill: #FFFFFF;\n",
              "    }\n",
              "  </style>\n",
              "\n",
              "      <script>\n",
              "        const buttonEl =\n",
              "          document.querySelector('#df-8c2f9459-25ff-4f15-804c-ec9a2ea2e918 button.colab-df-convert');\n",
              "        buttonEl.style.display =\n",
              "          google.colab.kernel.accessAllowed ? 'block' : 'none';\n",
              "\n",
              "        async function convertToInteractive(key) {\n",
              "          const element = document.querySelector('#df-8c2f9459-25ff-4f15-804c-ec9a2ea2e918');\n",
              "          const dataTable =\n",
              "            await google.colab.kernel.invokeFunction('convertToInteractive',\n",
              "                                                     [key], {});\n",
              "          if (!dataTable) return;\n",
              "\n",
              "          const docLinkHtml = 'Like what you see? Visit the ' +\n",
              "            '<a target=\"_blank\" href=https://colab.research.google.com/notebooks/data_table.ipynb>data table notebook</a>'\n",
              "            + ' to learn more about interactive tables.';\n",
              "          element.innerHTML = '';\n",
              "          dataTable['output_type'] = 'display_data';\n",
              "          await google.colab.output.renderOutput(dataTable, element);\n",
              "          const docLink = document.createElement('div');\n",
              "          docLink.innerHTML = docLinkHtml;\n",
              "          element.appendChild(docLink);\n",
              "        }\n",
              "      </script>\n",
              "    </div>\n",
              "  </div>\n",
              "  "
            ]
          },
          "metadata": {},
          "execution_count": 62
        }
      ]
    },
    {
      "cell_type": "code",
      "source": [
        "data['sentiment'] = data['compound'].apply(lambda c: 'pos' if c >=0 else 'neg')\n",
        "\n",
        "data.head()"
      ],
      "metadata": {
        "colab": {
          "base_uri": "https://localhost:8080/",
          "height": 632
        },
        "id": "B3zKIw2hCkcr",
        "outputId": "436d1142-dd63-42bf-e240-e7dc972f7d38"
      },
      "execution_count": 63,
      "outputs": [
        {
          "output_type": "execute_result",
          "data": {
            "text/plain": [
              "  web-scraper-order                              web-scraper-start-url  \\\n",
              "0      1672902707-1  https://www.tdcj.texas.gov/death_row/dr_execut...   \n",
              "1      1672902711-2  https://www.tdcj.texas.gov/death_row/dr_execut...   \n",
              "2      1672902715-3  https://www.tdcj.texas.gov/death_row/dr_execut...   \n",
              "3      1672902718-4  https://www.tdcj.texas.gov/death_row/dr_execut...   \n",
              "4      1672902722-5  https://www.tdcj.texas.gov/death_row/dr_execut...   \n",
              "\n",
              "             link                                          link-href  \\\n",
              "0  Last Statement  https://www.tdcj.texas.gov/death_row/dr_info/b...   \n",
              "1  Last Statement  https://www.tdcj.texas.gov/death_row/dr_info/o...   \n",
              "2  Last Statement  https://www.tdcj.texas.gov/death_row/dr_info/b...   \n",
              "3  Last Statement  https://www.tdcj.texas.gov/death_row/dr_info/s...   \n",
              "4  Last Statement  https://www.tdcj.texas.gov/death_row/dr_info/m...   \n",
              "\n",
              "                                      last statement  \\\n",
              "0  Statement to the Media: I, at this very moment...   \n",
              "1  What is about to transpire in a few moments is...   \n",
              "2  When asked if he had a last statement, he repl...   \n",
              "3  I pray that my family will rejoice and will fo...   \n",
              "4  Heavenly Father, I give thanks for this time, ...   \n",
              "\n",
              "                                                text  \\\n",
              "0  Statement to the Media: I, at this very moment...   \n",
              "1  What is about to transpire in a few moments is...   \n",
              "2  When asked if he had a last statement, he repl...   \n",
              "3  I pray that my family will rejoice and will fo...   \n",
              "4  Heavenly Father, I give thanks for this time, ...   \n",
              "\n",
              "                                    sentiment_scores  compound sentiment  \n",
              "0  {'neg': 0.104, 'neu': 0.872, 'pos': 0.023, 'co...   -0.8100       neg  \n",
              "1  {'neg': 0.103, 'neu': 0.639, 'pos': 0.259, 'co...    0.9794       pos  \n",
              "2  {'neg': 0.159, 'neu': 0.706, 'pos': 0.135, 'co...   -0.5778       neg  \n",
              "3  {'neg': 0.0, 'neu': 0.417, 'pos': 0.583, 'comp...    0.8316       pos  \n",
              "4  {'neg': 0.0, 'neu': 0.698, 'pos': 0.302, 'comp...    0.9805       pos  "
            ],
            "text/html": [
              "\n",
              "  <div id=\"df-31d1d1f1-1fb9-48b7-a4a2-0a1d09eb0d9e\">\n",
              "    <div class=\"colab-df-container\">\n",
              "      <div>\n",
              "<style scoped>\n",
              "    .dataframe tbody tr th:only-of-type {\n",
              "        vertical-align: middle;\n",
              "    }\n",
              "\n",
              "    .dataframe tbody tr th {\n",
              "        vertical-align: top;\n",
              "    }\n",
              "\n",
              "    .dataframe thead th {\n",
              "        text-align: right;\n",
              "    }\n",
              "</style>\n",
              "<table border=\"1\" class=\"dataframe\">\n",
              "  <thead>\n",
              "    <tr style=\"text-align: right;\">\n",
              "      <th></th>\n",
              "      <th>web-scraper-order</th>\n",
              "      <th>web-scraper-start-url</th>\n",
              "      <th>link</th>\n",
              "      <th>link-href</th>\n",
              "      <th>last statement</th>\n",
              "      <th>text</th>\n",
              "      <th>sentiment_scores</th>\n",
              "      <th>compound</th>\n",
              "      <th>sentiment</th>\n",
              "    </tr>\n",
              "  </thead>\n",
              "  <tbody>\n",
              "    <tr>\n",
              "      <th>0</th>\n",
              "      <td>1672902707-1</td>\n",
              "      <td>https://www.tdcj.texas.gov/death_row/dr_execut...</td>\n",
              "      <td>Last Statement</td>\n",
              "      <td>https://www.tdcj.texas.gov/death_row/dr_info/b...</td>\n",
              "      <td>Statement to the Media: I, at this very moment...</td>\n",
              "      <td>Statement to the Media: I, at this very moment...</td>\n",
              "      <td>{'neg': 0.104, 'neu': 0.872, 'pos': 0.023, 'co...</td>\n",
              "      <td>-0.8100</td>\n",
              "      <td>neg</td>\n",
              "    </tr>\n",
              "    <tr>\n",
              "      <th>1</th>\n",
              "      <td>1672902711-2</td>\n",
              "      <td>https://www.tdcj.texas.gov/death_row/dr_execut...</td>\n",
              "      <td>Last Statement</td>\n",
              "      <td>https://www.tdcj.texas.gov/death_row/dr_info/o...</td>\n",
              "      <td>What is about to transpire in a few moments is...</td>\n",
              "      <td>What is about to transpire in a few moments is...</td>\n",
              "      <td>{'neg': 0.103, 'neu': 0.639, 'pos': 0.259, 'co...</td>\n",
              "      <td>0.9794</td>\n",
              "      <td>pos</td>\n",
              "    </tr>\n",
              "    <tr>\n",
              "      <th>2</th>\n",
              "      <td>1672902715-3</td>\n",
              "      <td>https://www.tdcj.texas.gov/death_row/dr_execut...</td>\n",
              "      <td>Last Statement</td>\n",
              "      <td>https://www.tdcj.texas.gov/death_row/dr_info/b...</td>\n",
              "      <td>When asked if he had a last statement, he repl...</td>\n",
              "      <td>When asked if he had a last statement, he repl...</td>\n",
              "      <td>{'neg': 0.159, 'neu': 0.706, 'pos': 0.135, 'co...</td>\n",
              "      <td>-0.5778</td>\n",
              "      <td>neg</td>\n",
              "    </tr>\n",
              "    <tr>\n",
              "      <th>3</th>\n",
              "      <td>1672902718-4</td>\n",
              "      <td>https://www.tdcj.texas.gov/death_row/dr_execut...</td>\n",
              "      <td>Last Statement</td>\n",
              "      <td>https://www.tdcj.texas.gov/death_row/dr_info/s...</td>\n",
              "      <td>I pray that my family will rejoice and will fo...</td>\n",
              "      <td>I pray that my family will rejoice and will fo...</td>\n",
              "      <td>{'neg': 0.0, 'neu': 0.417, 'pos': 0.583, 'comp...</td>\n",
              "      <td>0.8316</td>\n",
              "      <td>pos</td>\n",
              "    </tr>\n",
              "    <tr>\n",
              "      <th>4</th>\n",
              "      <td>1672902722-5</td>\n",
              "      <td>https://www.tdcj.texas.gov/death_row/dr_execut...</td>\n",
              "      <td>Last Statement</td>\n",
              "      <td>https://www.tdcj.texas.gov/death_row/dr_info/m...</td>\n",
              "      <td>Heavenly Father, I give thanks for this time, ...</td>\n",
              "      <td>Heavenly Father, I give thanks for this time, ...</td>\n",
              "      <td>{'neg': 0.0, 'neu': 0.698, 'pos': 0.302, 'comp...</td>\n",
              "      <td>0.9805</td>\n",
              "      <td>pos</td>\n",
              "    </tr>\n",
              "  </tbody>\n",
              "</table>\n",
              "</div>\n",
              "      <button class=\"colab-df-convert\" onclick=\"convertToInteractive('df-31d1d1f1-1fb9-48b7-a4a2-0a1d09eb0d9e')\"\n",
              "              title=\"Convert this dataframe to an interactive table.\"\n",
              "              style=\"display:none;\">\n",
              "        \n",
              "  <svg xmlns=\"http://www.w3.org/2000/svg\" height=\"24px\"viewBox=\"0 0 24 24\"\n",
              "       width=\"24px\">\n",
              "    <path d=\"M0 0h24v24H0V0z\" fill=\"none\"/>\n",
              "    <path d=\"M18.56 5.44l.94 2.06.94-2.06 2.06-.94-2.06-.94-.94-2.06-.94 2.06-2.06.94zm-11 1L8.5 8.5l.94-2.06 2.06-.94-2.06-.94L8.5 2.5l-.94 2.06-2.06.94zm10 10l.94 2.06.94-2.06 2.06-.94-2.06-.94-.94-2.06-.94 2.06-2.06.94z\"/><path d=\"M17.41 7.96l-1.37-1.37c-.4-.4-.92-.59-1.43-.59-.52 0-1.04.2-1.43.59L10.3 9.45l-7.72 7.72c-.78.78-.78 2.05 0 2.83L4 21.41c.39.39.9.59 1.41.59.51 0 1.02-.2 1.41-.59l7.78-7.78 2.81-2.81c.8-.78.8-2.07 0-2.86zM5.41 20L4 18.59l7.72-7.72 1.47 1.35L5.41 20z\"/>\n",
              "  </svg>\n",
              "      </button>\n",
              "      \n",
              "  <style>\n",
              "    .colab-df-container {\n",
              "      display:flex;\n",
              "      flex-wrap:wrap;\n",
              "      gap: 12px;\n",
              "    }\n",
              "\n",
              "    .colab-df-convert {\n",
              "      background-color: #E8F0FE;\n",
              "      border: none;\n",
              "      border-radius: 50%;\n",
              "      cursor: pointer;\n",
              "      display: none;\n",
              "      fill: #1967D2;\n",
              "      height: 32px;\n",
              "      padding: 0 0 0 0;\n",
              "      width: 32px;\n",
              "    }\n",
              "\n",
              "    .colab-df-convert:hover {\n",
              "      background-color: #E2EBFA;\n",
              "      box-shadow: 0px 1px 2px rgba(60, 64, 67, 0.3), 0px 1px 3px 1px rgba(60, 64, 67, 0.15);\n",
              "      fill: #174EA6;\n",
              "    }\n",
              "\n",
              "    [theme=dark] .colab-df-convert {\n",
              "      background-color: #3B4455;\n",
              "      fill: #D2E3FC;\n",
              "    }\n",
              "\n",
              "    [theme=dark] .colab-df-convert:hover {\n",
              "      background-color: #434B5C;\n",
              "      box-shadow: 0px 1px 3px 1px rgba(0, 0, 0, 0.15);\n",
              "      filter: drop-shadow(0px 1px 2px rgba(0, 0, 0, 0.3));\n",
              "      fill: #FFFFFF;\n",
              "    }\n",
              "  </style>\n",
              "\n",
              "      <script>\n",
              "        const buttonEl =\n",
              "          document.querySelector('#df-31d1d1f1-1fb9-48b7-a4a2-0a1d09eb0d9e button.colab-df-convert');\n",
              "        buttonEl.style.display =\n",
              "          google.colab.kernel.accessAllowed ? 'block' : 'none';\n",
              "\n",
              "        async function convertToInteractive(key) {\n",
              "          const element = document.querySelector('#df-31d1d1f1-1fb9-48b7-a4a2-0a1d09eb0d9e');\n",
              "          const dataTable =\n",
              "            await google.colab.kernel.invokeFunction('convertToInteractive',\n",
              "                                                     [key], {});\n",
              "          if (!dataTable) return;\n",
              "\n",
              "          const docLinkHtml = 'Like what you see? Visit the ' +\n",
              "            '<a target=\"_blank\" href=https://colab.research.google.com/notebooks/data_table.ipynb>data table notebook</a>'\n",
              "            + ' to learn more about interactive tables.';\n",
              "          element.innerHTML = '';\n",
              "          dataTable['output_type'] = 'display_data';\n",
              "          await google.colab.output.renderOutput(dataTable, element);\n",
              "          const docLink = document.createElement('div');\n",
              "          docLink.innerHTML = docLinkHtml;\n",
              "          element.appendChild(docLink);\n",
              "        }\n",
              "      </script>\n",
              "    </div>\n",
              "  </div>\n",
              "  "
            ]
          },
          "metadata": {},
          "execution_count": 63
        }
      ]
    },
    {
      "cell_type": "code",
      "source": [
        "# lowering the text of the review\n",
        "\n",
        "data[\"text\"] = data[\"text\"].str.lower()\n",
        "data.head()"
      ],
      "metadata": {
        "colab": {
          "base_uri": "https://localhost:8080/",
          "height": 597
        },
        "id": "7kBbAkJCOeY2",
        "outputId": "6215a72f-8d0c-4fd4-c35f-8fec807f4870"
      },
      "execution_count": 64,
      "outputs": [
        {
          "output_type": "execute_result",
          "data": {
            "text/plain": [
              "  web-scraper-order                              web-scraper-start-url  \\\n",
              "0      1672902707-1  https://www.tdcj.texas.gov/death_row/dr_execut...   \n",
              "1      1672902711-2  https://www.tdcj.texas.gov/death_row/dr_execut...   \n",
              "2      1672902715-3  https://www.tdcj.texas.gov/death_row/dr_execut...   \n",
              "3      1672902718-4  https://www.tdcj.texas.gov/death_row/dr_execut...   \n",
              "4      1672902722-5  https://www.tdcj.texas.gov/death_row/dr_execut...   \n",
              "\n",
              "             link                                          link-href  \\\n",
              "0  Last Statement  https://www.tdcj.texas.gov/death_row/dr_info/b...   \n",
              "1  Last Statement  https://www.tdcj.texas.gov/death_row/dr_info/o...   \n",
              "2  Last Statement  https://www.tdcj.texas.gov/death_row/dr_info/b...   \n",
              "3  Last Statement  https://www.tdcj.texas.gov/death_row/dr_info/s...   \n",
              "4  Last Statement  https://www.tdcj.texas.gov/death_row/dr_info/m...   \n",
              "\n",
              "                                      last statement  \\\n",
              "0  Statement to the Media: I, at this very moment...   \n",
              "1  What is about to transpire in a few moments is...   \n",
              "2  When asked if he had a last statement, he repl...   \n",
              "3  I pray that my family will rejoice and will fo...   \n",
              "4  Heavenly Father, I give thanks for this time, ...   \n",
              "\n",
              "                                                text  \\\n",
              "0  statement to the media: i, at this very moment...   \n",
              "1  what is about to transpire in a few moments is...   \n",
              "2  when asked if he had a last statement, he repl...   \n",
              "3  i pray that my family will rejoice and will fo...   \n",
              "4  heavenly father, i give thanks for this time, ...   \n",
              "\n",
              "                                    sentiment_scores  compound sentiment  \n",
              "0  {'neg': 0.104, 'neu': 0.872, 'pos': 0.023, 'co...   -0.8100       neg  \n",
              "1  {'neg': 0.103, 'neu': 0.639, 'pos': 0.259, 'co...    0.9794       pos  \n",
              "2  {'neg': 0.159, 'neu': 0.706, 'pos': 0.135, 'co...   -0.5778       neg  \n",
              "3  {'neg': 0.0, 'neu': 0.417, 'pos': 0.583, 'comp...    0.8316       pos  \n",
              "4  {'neg': 0.0, 'neu': 0.698, 'pos': 0.302, 'comp...    0.9805       pos  "
            ],
            "text/html": [
              "\n",
              "  <div id=\"df-52bcd5f8-3f69-4550-b90c-3838b24e4dda\">\n",
              "    <div class=\"colab-df-container\">\n",
              "      <div>\n",
              "<style scoped>\n",
              "    .dataframe tbody tr th:only-of-type {\n",
              "        vertical-align: middle;\n",
              "    }\n",
              "\n",
              "    .dataframe tbody tr th {\n",
              "        vertical-align: top;\n",
              "    }\n",
              "\n",
              "    .dataframe thead th {\n",
              "        text-align: right;\n",
              "    }\n",
              "</style>\n",
              "<table border=\"1\" class=\"dataframe\">\n",
              "  <thead>\n",
              "    <tr style=\"text-align: right;\">\n",
              "      <th></th>\n",
              "      <th>web-scraper-order</th>\n",
              "      <th>web-scraper-start-url</th>\n",
              "      <th>link</th>\n",
              "      <th>link-href</th>\n",
              "      <th>last statement</th>\n",
              "      <th>text</th>\n",
              "      <th>sentiment_scores</th>\n",
              "      <th>compound</th>\n",
              "      <th>sentiment</th>\n",
              "    </tr>\n",
              "  </thead>\n",
              "  <tbody>\n",
              "    <tr>\n",
              "      <th>0</th>\n",
              "      <td>1672902707-1</td>\n",
              "      <td>https://www.tdcj.texas.gov/death_row/dr_execut...</td>\n",
              "      <td>Last Statement</td>\n",
              "      <td>https://www.tdcj.texas.gov/death_row/dr_info/b...</td>\n",
              "      <td>Statement to the Media: I, at this very moment...</td>\n",
              "      <td>statement to the media: i, at this very moment...</td>\n",
              "      <td>{'neg': 0.104, 'neu': 0.872, 'pos': 0.023, 'co...</td>\n",
              "      <td>-0.8100</td>\n",
              "      <td>neg</td>\n",
              "    </tr>\n",
              "    <tr>\n",
              "      <th>1</th>\n",
              "      <td>1672902711-2</td>\n",
              "      <td>https://www.tdcj.texas.gov/death_row/dr_execut...</td>\n",
              "      <td>Last Statement</td>\n",
              "      <td>https://www.tdcj.texas.gov/death_row/dr_info/o...</td>\n",
              "      <td>What is about to transpire in a few moments is...</td>\n",
              "      <td>what is about to transpire in a few moments is...</td>\n",
              "      <td>{'neg': 0.103, 'neu': 0.639, 'pos': 0.259, 'co...</td>\n",
              "      <td>0.9794</td>\n",
              "      <td>pos</td>\n",
              "    </tr>\n",
              "    <tr>\n",
              "      <th>2</th>\n",
              "      <td>1672902715-3</td>\n",
              "      <td>https://www.tdcj.texas.gov/death_row/dr_execut...</td>\n",
              "      <td>Last Statement</td>\n",
              "      <td>https://www.tdcj.texas.gov/death_row/dr_info/b...</td>\n",
              "      <td>When asked if he had a last statement, he repl...</td>\n",
              "      <td>when asked if he had a last statement, he repl...</td>\n",
              "      <td>{'neg': 0.159, 'neu': 0.706, 'pos': 0.135, 'co...</td>\n",
              "      <td>-0.5778</td>\n",
              "      <td>neg</td>\n",
              "    </tr>\n",
              "    <tr>\n",
              "      <th>3</th>\n",
              "      <td>1672902718-4</td>\n",
              "      <td>https://www.tdcj.texas.gov/death_row/dr_execut...</td>\n",
              "      <td>Last Statement</td>\n",
              "      <td>https://www.tdcj.texas.gov/death_row/dr_info/s...</td>\n",
              "      <td>I pray that my family will rejoice and will fo...</td>\n",
              "      <td>i pray that my family will rejoice and will fo...</td>\n",
              "      <td>{'neg': 0.0, 'neu': 0.417, 'pos': 0.583, 'comp...</td>\n",
              "      <td>0.8316</td>\n",
              "      <td>pos</td>\n",
              "    </tr>\n",
              "    <tr>\n",
              "      <th>4</th>\n",
              "      <td>1672902722-5</td>\n",
              "      <td>https://www.tdcj.texas.gov/death_row/dr_execut...</td>\n",
              "      <td>Last Statement</td>\n",
              "      <td>https://www.tdcj.texas.gov/death_row/dr_info/m...</td>\n",
              "      <td>Heavenly Father, I give thanks for this time, ...</td>\n",
              "      <td>heavenly father, i give thanks for this time, ...</td>\n",
              "      <td>{'neg': 0.0, 'neu': 0.698, 'pos': 0.302, 'comp...</td>\n",
              "      <td>0.9805</td>\n",
              "      <td>pos</td>\n",
              "    </tr>\n",
              "  </tbody>\n",
              "</table>\n",
              "</div>\n",
              "      <button class=\"colab-df-convert\" onclick=\"convertToInteractive('df-52bcd5f8-3f69-4550-b90c-3838b24e4dda')\"\n",
              "              title=\"Convert this dataframe to an interactive table.\"\n",
              "              style=\"display:none;\">\n",
              "        \n",
              "  <svg xmlns=\"http://www.w3.org/2000/svg\" height=\"24px\"viewBox=\"0 0 24 24\"\n",
              "       width=\"24px\">\n",
              "    <path d=\"M0 0h24v24H0V0z\" fill=\"none\"/>\n",
              "    <path d=\"M18.56 5.44l.94 2.06.94-2.06 2.06-.94-2.06-.94-.94-2.06-.94 2.06-2.06.94zm-11 1L8.5 8.5l.94-2.06 2.06-.94-2.06-.94L8.5 2.5l-.94 2.06-2.06.94zm10 10l.94 2.06.94-2.06 2.06-.94-2.06-.94-.94-2.06-.94 2.06-2.06.94z\"/><path d=\"M17.41 7.96l-1.37-1.37c-.4-.4-.92-.59-1.43-.59-.52 0-1.04.2-1.43.59L10.3 9.45l-7.72 7.72c-.78.78-.78 2.05 0 2.83L4 21.41c.39.39.9.59 1.41.59.51 0 1.02-.2 1.41-.59l7.78-7.78 2.81-2.81c.8-.78.8-2.07 0-2.86zM5.41 20L4 18.59l7.72-7.72 1.47 1.35L5.41 20z\"/>\n",
              "  </svg>\n",
              "      </button>\n",
              "      \n",
              "  <style>\n",
              "    .colab-df-container {\n",
              "      display:flex;\n",
              "      flex-wrap:wrap;\n",
              "      gap: 12px;\n",
              "    }\n",
              "\n",
              "    .colab-df-convert {\n",
              "      background-color: #E8F0FE;\n",
              "      border: none;\n",
              "      border-radius: 50%;\n",
              "      cursor: pointer;\n",
              "      display: none;\n",
              "      fill: #1967D2;\n",
              "      height: 32px;\n",
              "      padding: 0 0 0 0;\n",
              "      width: 32px;\n",
              "    }\n",
              "\n",
              "    .colab-df-convert:hover {\n",
              "      background-color: #E2EBFA;\n",
              "      box-shadow: 0px 1px 2px rgba(60, 64, 67, 0.3), 0px 1px 3px 1px rgba(60, 64, 67, 0.15);\n",
              "      fill: #174EA6;\n",
              "    }\n",
              "\n",
              "    [theme=dark] .colab-df-convert {\n",
              "      background-color: #3B4455;\n",
              "      fill: #D2E3FC;\n",
              "    }\n",
              "\n",
              "    [theme=dark] .colab-df-convert:hover {\n",
              "      background-color: #434B5C;\n",
              "      box-shadow: 0px 1px 3px 1px rgba(0, 0, 0, 0.15);\n",
              "      filter: drop-shadow(0px 1px 2px rgba(0, 0, 0, 0.3));\n",
              "      fill: #FFFFFF;\n",
              "    }\n",
              "  </style>\n",
              "\n",
              "      <script>\n",
              "        const buttonEl =\n",
              "          document.querySelector('#df-52bcd5f8-3f69-4550-b90c-3838b24e4dda button.colab-df-convert');\n",
              "        buttonEl.style.display =\n",
              "          google.colab.kernel.accessAllowed ? 'block' : 'none';\n",
              "\n",
              "        async function convertToInteractive(key) {\n",
              "          const element = document.querySelector('#df-52bcd5f8-3f69-4550-b90c-3838b24e4dda');\n",
              "          const dataTable =\n",
              "            await google.colab.kernel.invokeFunction('convertToInteractive',\n",
              "                                                     [key], {});\n",
              "          if (!dataTable) return;\n",
              "\n",
              "          const docLinkHtml = 'Like what you see? Visit the ' +\n",
              "            '<a target=\"_blank\" href=https://colab.research.google.com/notebooks/data_table.ipynb>data table notebook</a>'\n",
              "            + ' to learn more about interactive tables.';\n",
              "          element.innerHTML = '';\n",
              "          dataTable['output_type'] = 'display_data';\n",
              "          await google.colab.output.renderOutput(dataTable, element);\n",
              "          const docLink = document.createElement('div');\n",
              "          docLink.innerHTML = docLinkHtml;\n",
              "          element.appendChild(docLink);\n",
              "        }\n",
              "      </script>\n",
              "    </div>\n",
              "  </div>\n",
              "  "
            ]
          },
          "metadata": {},
          "execution_count": 64
        }
      ]
    },
    {
      "cell_type": "code",
      "source": [
        "# removing punctuation\n",
        "\n",
        "PUNCT_TO_REMOVE = string.punctuation\n",
        "def remove_punctuation(text):\n",
        "    \"\"\"custom function to remove the punctuation\"\"\"\n",
        "    return text.translate(str.maketrans('', '', PUNCT_TO_REMOVE))\n",
        "\n",
        "data[\"text\"] = data[\"text\"].astype(str).apply(lambda text: remove_punctuation(text))\n",
        "data.head()"
      ],
      "metadata": {
        "colab": {
          "base_uri": "https://localhost:8080/",
          "height": 632
        },
        "id": "MLH0uZbTOpFY",
        "outputId": "d2f1326c-4f10-47f9-a23b-adc143f1aa6c"
      },
      "execution_count": 66,
      "outputs": [
        {
          "output_type": "execute_result",
          "data": {
            "text/plain": [
              "  web-scraper-order                              web-scraper-start-url  \\\n",
              "0      1672902707-1  https://www.tdcj.texas.gov/death_row/dr_execut...   \n",
              "1      1672902711-2  https://www.tdcj.texas.gov/death_row/dr_execut...   \n",
              "2      1672902715-3  https://www.tdcj.texas.gov/death_row/dr_execut...   \n",
              "3      1672902718-4  https://www.tdcj.texas.gov/death_row/dr_execut...   \n",
              "4      1672902722-5  https://www.tdcj.texas.gov/death_row/dr_execut...   \n",
              "\n",
              "             link                                          link-href  \\\n",
              "0  Last Statement  https://www.tdcj.texas.gov/death_row/dr_info/b...   \n",
              "1  Last Statement  https://www.tdcj.texas.gov/death_row/dr_info/o...   \n",
              "2  Last Statement  https://www.tdcj.texas.gov/death_row/dr_info/b...   \n",
              "3  Last Statement  https://www.tdcj.texas.gov/death_row/dr_info/s...   \n",
              "4  Last Statement  https://www.tdcj.texas.gov/death_row/dr_info/m...   \n",
              "\n",
              "                                      last statement  \\\n",
              "0  Statement to the Media: I, at this very moment...   \n",
              "1  What is about to transpire in a few moments is...   \n",
              "2  When asked if he had a last statement, he repl...   \n",
              "3  I pray that my family will rejoice and will fo...   \n",
              "4  Heavenly Father, I give thanks for this time, ...   \n",
              "\n",
              "                                                text  \\\n",
              "0  statement to the media i at this very moment h...   \n",
              "1  what is about to transpire in a few moments is...   \n",
              "2  when asked if he had a last statement he repli...   \n",
              "3  i pray that my family will rejoice and will fo...   \n",
              "4  heavenly father i give thanks for this time fo...   \n",
              "\n",
              "                                    sentiment_scores  compound sentiment  \n",
              "0  {'neg': 0.104, 'neu': 0.872, 'pos': 0.023, 'co...   -0.8100       neg  \n",
              "1  {'neg': 0.103, 'neu': 0.639, 'pos': 0.259, 'co...    0.9794       pos  \n",
              "2  {'neg': 0.159, 'neu': 0.706, 'pos': 0.135, 'co...   -0.5778       neg  \n",
              "3  {'neg': 0.0, 'neu': 0.417, 'pos': 0.583, 'comp...    0.8316       pos  \n",
              "4  {'neg': 0.0, 'neu': 0.698, 'pos': 0.302, 'comp...    0.9805       pos  "
            ],
            "text/html": [
              "\n",
              "  <div id=\"df-03effadb-d6cc-480d-960b-8db1a4712e7f\">\n",
              "    <div class=\"colab-df-container\">\n",
              "      <div>\n",
              "<style scoped>\n",
              "    .dataframe tbody tr th:only-of-type {\n",
              "        vertical-align: middle;\n",
              "    }\n",
              "\n",
              "    .dataframe tbody tr th {\n",
              "        vertical-align: top;\n",
              "    }\n",
              "\n",
              "    .dataframe thead th {\n",
              "        text-align: right;\n",
              "    }\n",
              "</style>\n",
              "<table border=\"1\" class=\"dataframe\">\n",
              "  <thead>\n",
              "    <tr style=\"text-align: right;\">\n",
              "      <th></th>\n",
              "      <th>web-scraper-order</th>\n",
              "      <th>web-scraper-start-url</th>\n",
              "      <th>link</th>\n",
              "      <th>link-href</th>\n",
              "      <th>last statement</th>\n",
              "      <th>text</th>\n",
              "      <th>sentiment_scores</th>\n",
              "      <th>compound</th>\n",
              "      <th>sentiment</th>\n",
              "    </tr>\n",
              "  </thead>\n",
              "  <tbody>\n",
              "    <tr>\n",
              "      <th>0</th>\n",
              "      <td>1672902707-1</td>\n",
              "      <td>https://www.tdcj.texas.gov/death_row/dr_execut...</td>\n",
              "      <td>Last Statement</td>\n",
              "      <td>https://www.tdcj.texas.gov/death_row/dr_info/b...</td>\n",
              "      <td>Statement to the Media: I, at this very moment...</td>\n",
              "      <td>statement to the media i at this very moment h...</td>\n",
              "      <td>{'neg': 0.104, 'neu': 0.872, 'pos': 0.023, 'co...</td>\n",
              "      <td>-0.8100</td>\n",
              "      <td>neg</td>\n",
              "    </tr>\n",
              "    <tr>\n",
              "      <th>1</th>\n",
              "      <td>1672902711-2</td>\n",
              "      <td>https://www.tdcj.texas.gov/death_row/dr_execut...</td>\n",
              "      <td>Last Statement</td>\n",
              "      <td>https://www.tdcj.texas.gov/death_row/dr_info/o...</td>\n",
              "      <td>What is about to transpire in a few moments is...</td>\n",
              "      <td>what is about to transpire in a few moments is...</td>\n",
              "      <td>{'neg': 0.103, 'neu': 0.639, 'pos': 0.259, 'co...</td>\n",
              "      <td>0.9794</td>\n",
              "      <td>pos</td>\n",
              "    </tr>\n",
              "    <tr>\n",
              "      <th>2</th>\n",
              "      <td>1672902715-3</td>\n",
              "      <td>https://www.tdcj.texas.gov/death_row/dr_execut...</td>\n",
              "      <td>Last Statement</td>\n",
              "      <td>https://www.tdcj.texas.gov/death_row/dr_info/b...</td>\n",
              "      <td>When asked if he had a last statement, he repl...</td>\n",
              "      <td>when asked if he had a last statement he repli...</td>\n",
              "      <td>{'neg': 0.159, 'neu': 0.706, 'pos': 0.135, 'co...</td>\n",
              "      <td>-0.5778</td>\n",
              "      <td>neg</td>\n",
              "    </tr>\n",
              "    <tr>\n",
              "      <th>3</th>\n",
              "      <td>1672902718-4</td>\n",
              "      <td>https://www.tdcj.texas.gov/death_row/dr_execut...</td>\n",
              "      <td>Last Statement</td>\n",
              "      <td>https://www.tdcj.texas.gov/death_row/dr_info/s...</td>\n",
              "      <td>I pray that my family will rejoice and will fo...</td>\n",
              "      <td>i pray that my family will rejoice and will fo...</td>\n",
              "      <td>{'neg': 0.0, 'neu': 0.417, 'pos': 0.583, 'comp...</td>\n",
              "      <td>0.8316</td>\n",
              "      <td>pos</td>\n",
              "    </tr>\n",
              "    <tr>\n",
              "      <th>4</th>\n",
              "      <td>1672902722-5</td>\n",
              "      <td>https://www.tdcj.texas.gov/death_row/dr_execut...</td>\n",
              "      <td>Last Statement</td>\n",
              "      <td>https://www.tdcj.texas.gov/death_row/dr_info/m...</td>\n",
              "      <td>Heavenly Father, I give thanks for this time, ...</td>\n",
              "      <td>heavenly father i give thanks for this time fo...</td>\n",
              "      <td>{'neg': 0.0, 'neu': 0.698, 'pos': 0.302, 'comp...</td>\n",
              "      <td>0.9805</td>\n",
              "      <td>pos</td>\n",
              "    </tr>\n",
              "  </tbody>\n",
              "</table>\n",
              "</div>\n",
              "      <button class=\"colab-df-convert\" onclick=\"convertToInteractive('df-03effadb-d6cc-480d-960b-8db1a4712e7f')\"\n",
              "              title=\"Convert this dataframe to an interactive table.\"\n",
              "              style=\"display:none;\">\n",
              "        \n",
              "  <svg xmlns=\"http://www.w3.org/2000/svg\" height=\"24px\"viewBox=\"0 0 24 24\"\n",
              "       width=\"24px\">\n",
              "    <path d=\"M0 0h24v24H0V0z\" fill=\"none\"/>\n",
              "    <path d=\"M18.56 5.44l.94 2.06.94-2.06 2.06-.94-2.06-.94-.94-2.06-.94 2.06-2.06.94zm-11 1L8.5 8.5l.94-2.06 2.06-.94-2.06-.94L8.5 2.5l-.94 2.06-2.06.94zm10 10l.94 2.06.94-2.06 2.06-.94-2.06-.94-.94-2.06-.94 2.06-2.06.94z\"/><path d=\"M17.41 7.96l-1.37-1.37c-.4-.4-.92-.59-1.43-.59-.52 0-1.04.2-1.43.59L10.3 9.45l-7.72 7.72c-.78.78-.78 2.05 0 2.83L4 21.41c.39.39.9.59 1.41.59.51 0 1.02-.2 1.41-.59l7.78-7.78 2.81-2.81c.8-.78.8-2.07 0-2.86zM5.41 20L4 18.59l7.72-7.72 1.47 1.35L5.41 20z\"/>\n",
              "  </svg>\n",
              "      </button>\n",
              "      \n",
              "  <style>\n",
              "    .colab-df-container {\n",
              "      display:flex;\n",
              "      flex-wrap:wrap;\n",
              "      gap: 12px;\n",
              "    }\n",
              "\n",
              "    .colab-df-convert {\n",
              "      background-color: #E8F0FE;\n",
              "      border: none;\n",
              "      border-radius: 50%;\n",
              "      cursor: pointer;\n",
              "      display: none;\n",
              "      fill: #1967D2;\n",
              "      height: 32px;\n",
              "      padding: 0 0 0 0;\n",
              "      width: 32px;\n",
              "    }\n",
              "\n",
              "    .colab-df-convert:hover {\n",
              "      background-color: #E2EBFA;\n",
              "      box-shadow: 0px 1px 2px rgba(60, 64, 67, 0.3), 0px 1px 3px 1px rgba(60, 64, 67, 0.15);\n",
              "      fill: #174EA6;\n",
              "    }\n",
              "\n",
              "    [theme=dark] .colab-df-convert {\n",
              "      background-color: #3B4455;\n",
              "      fill: #D2E3FC;\n",
              "    }\n",
              "\n",
              "    [theme=dark] .colab-df-convert:hover {\n",
              "      background-color: #434B5C;\n",
              "      box-shadow: 0px 1px 3px 1px rgba(0, 0, 0, 0.15);\n",
              "      filter: drop-shadow(0px 1px 2px rgba(0, 0, 0, 0.3));\n",
              "      fill: #FFFFFF;\n",
              "    }\n",
              "  </style>\n",
              "\n",
              "      <script>\n",
              "        const buttonEl =\n",
              "          document.querySelector('#df-03effadb-d6cc-480d-960b-8db1a4712e7f button.colab-df-convert');\n",
              "        buttonEl.style.display =\n",
              "          google.colab.kernel.accessAllowed ? 'block' : 'none';\n",
              "\n",
              "        async function convertToInteractive(key) {\n",
              "          const element = document.querySelector('#df-03effadb-d6cc-480d-960b-8db1a4712e7f');\n",
              "          const dataTable =\n",
              "            await google.colab.kernel.invokeFunction('convertToInteractive',\n",
              "                                                     [key], {});\n",
              "          if (!dataTable) return;\n",
              "\n",
              "          const docLinkHtml = 'Like what you see? Visit the ' +\n",
              "            '<a target=\"_blank\" href=https://colab.research.google.com/notebooks/data_table.ipynb>data table notebook</a>'\n",
              "            + ' to learn more about interactive tables.';\n",
              "          element.innerHTML = '';\n",
              "          dataTable['output_type'] = 'display_data';\n",
              "          await google.colab.output.renderOutput(dataTable, element);\n",
              "          const docLink = document.createElement('div');\n",
              "          docLink.innerHTML = docLinkHtml;\n",
              "          element.appendChild(docLink);\n",
              "        }\n",
              "      </script>\n",
              "    </div>\n",
              "  </div>\n",
              "  "
            ]
          },
          "metadata": {},
          "execution_count": 66
        }
      ]
    },
    {
      "cell_type": "code",
      "source": [
        "#removing stop words from the dataset\n",
        "\n",
        "STOPWORDS = set(stopwords.words('english'))\n",
        "def remove_stopwords(text):\n",
        "    \"\"\"custom function to remove the stopwords\"\"\"\n",
        "    return \" \".join([word for word in str(text).split() if word not in STOPWORDS])\n",
        "\n",
        "data[\"text\"] = data[\"text\"].apply(lambda text: remove_stopwords(text))\n",
        "data.head()"
      ],
      "metadata": {
        "colab": {
          "base_uri": "https://localhost:8080/",
          "height": 649
        },
        "id": "GaSA_MpDQUb7",
        "outputId": "5414c4ac-e4b5-410b-cc78-ab4e7de60f4e"
      },
      "execution_count": 67,
      "outputs": [
        {
          "output_type": "execute_result",
          "data": {
            "text/plain": [
              "  web-scraper-order                              web-scraper-start-url  \\\n",
              "0      1672902707-1  https://www.tdcj.texas.gov/death_row/dr_execut...   \n",
              "1      1672902711-2  https://www.tdcj.texas.gov/death_row/dr_execut...   \n",
              "2      1672902715-3  https://www.tdcj.texas.gov/death_row/dr_execut...   \n",
              "3      1672902718-4  https://www.tdcj.texas.gov/death_row/dr_execut...   \n",
              "4      1672902722-5  https://www.tdcj.texas.gov/death_row/dr_execut...   \n",
              "\n",
              "             link                                          link-href  \\\n",
              "0  Last Statement  https://www.tdcj.texas.gov/death_row/dr_info/b...   \n",
              "1  Last Statement  https://www.tdcj.texas.gov/death_row/dr_info/o...   \n",
              "2  Last Statement  https://www.tdcj.texas.gov/death_row/dr_info/b...   \n",
              "3  Last Statement  https://www.tdcj.texas.gov/death_row/dr_info/s...   \n",
              "4  Last Statement  https://www.tdcj.texas.gov/death_row/dr_info/m...   \n",
              "\n",
              "                                      last statement  \\\n",
              "0  Statement to the Media: I, at this very moment...   \n",
              "1  What is about to transpire in a few moments is...   \n",
              "2  When asked if he had a last statement, he repl...   \n",
              "3  I pray that my family will rejoice and will fo...   \n",
              "4  Heavenly Father, I give thanks for this time, ...   \n",
              "\n",
              "                                                text  \\\n",
              "0  statement media moment absolutely fear may hap...   \n",
              "1  transpire moments wrong however human beings m...   \n",
              "2  asked last statement replied yes doi hope one ...   \n",
              "3                  pray family rejoice forgive thank   \n",
              "4  heavenly father give thanks time time together...   \n",
              "\n",
              "                                    sentiment_scores  compound sentiment  \n",
              "0  {'neg': 0.104, 'neu': 0.872, 'pos': 0.023, 'co...   -0.8100       neg  \n",
              "1  {'neg': 0.103, 'neu': 0.639, 'pos': 0.259, 'co...    0.9794       pos  \n",
              "2  {'neg': 0.159, 'neu': 0.706, 'pos': 0.135, 'co...   -0.5778       neg  \n",
              "3  {'neg': 0.0, 'neu': 0.417, 'pos': 0.583, 'comp...    0.8316       pos  \n",
              "4  {'neg': 0.0, 'neu': 0.698, 'pos': 0.302, 'comp...    0.9805       pos  "
            ],
            "text/html": [
              "\n",
              "  <div id=\"df-8895f1f7-7640-4a77-a05c-a329dad30d49\">\n",
              "    <div class=\"colab-df-container\">\n",
              "      <div>\n",
              "<style scoped>\n",
              "    .dataframe tbody tr th:only-of-type {\n",
              "        vertical-align: middle;\n",
              "    }\n",
              "\n",
              "    .dataframe tbody tr th {\n",
              "        vertical-align: top;\n",
              "    }\n",
              "\n",
              "    .dataframe thead th {\n",
              "        text-align: right;\n",
              "    }\n",
              "</style>\n",
              "<table border=\"1\" class=\"dataframe\">\n",
              "  <thead>\n",
              "    <tr style=\"text-align: right;\">\n",
              "      <th></th>\n",
              "      <th>web-scraper-order</th>\n",
              "      <th>web-scraper-start-url</th>\n",
              "      <th>link</th>\n",
              "      <th>link-href</th>\n",
              "      <th>last statement</th>\n",
              "      <th>text</th>\n",
              "      <th>sentiment_scores</th>\n",
              "      <th>compound</th>\n",
              "      <th>sentiment</th>\n",
              "    </tr>\n",
              "  </thead>\n",
              "  <tbody>\n",
              "    <tr>\n",
              "      <th>0</th>\n",
              "      <td>1672902707-1</td>\n",
              "      <td>https://www.tdcj.texas.gov/death_row/dr_execut...</td>\n",
              "      <td>Last Statement</td>\n",
              "      <td>https://www.tdcj.texas.gov/death_row/dr_info/b...</td>\n",
              "      <td>Statement to the Media: I, at this very moment...</td>\n",
              "      <td>statement media moment absolutely fear may hap...</td>\n",
              "      <td>{'neg': 0.104, 'neu': 0.872, 'pos': 0.023, 'co...</td>\n",
              "      <td>-0.8100</td>\n",
              "      <td>neg</td>\n",
              "    </tr>\n",
              "    <tr>\n",
              "      <th>1</th>\n",
              "      <td>1672902711-2</td>\n",
              "      <td>https://www.tdcj.texas.gov/death_row/dr_execut...</td>\n",
              "      <td>Last Statement</td>\n",
              "      <td>https://www.tdcj.texas.gov/death_row/dr_info/o...</td>\n",
              "      <td>What is about to transpire in a few moments is...</td>\n",
              "      <td>transpire moments wrong however human beings m...</td>\n",
              "      <td>{'neg': 0.103, 'neu': 0.639, 'pos': 0.259, 'co...</td>\n",
              "      <td>0.9794</td>\n",
              "      <td>pos</td>\n",
              "    </tr>\n",
              "    <tr>\n",
              "      <th>2</th>\n",
              "      <td>1672902715-3</td>\n",
              "      <td>https://www.tdcj.texas.gov/death_row/dr_execut...</td>\n",
              "      <td>Last Statement</td>\n",
              "      <td>https://www.tdcj.texas.gov/death_row/dr_info/b...</td>\n",
              "      <td>When asked if he had a last statement, he repl...</td>\n",
              "      <td>asked last statement replied yes doi hope one ...</td>\n",
              "      <td>{'neg': 0.159, 'neu': 0.706, 'pos': 0.135, 'co...</td>\n",
              "      <td>-0.5778</td>\n",
              "      <td>neg</td>\n",
              "    </tr>\n",
              "    <tr>\n",
              "      <th>3</th>\n",
              "      <td>1672902718-4</td>\n",
              "      <td>https://www.tdcj.texas.gov/death_row/dr_execut...</td>\n",
              "      <td>Last Statement</td>\n",
              "      <td>https://www.tdcj.texas.gov/death_row/dr_info/s...</td>\n",
              "      <td>I pray that my family will rejoice and will fo...</td>\n",
              "      <td>pray family rejoice forgive thank</td>\n",
              "      <td>{'neg': 0.0, 'neu': 0.417, 'pos': 0.583, 'comp...</td>\n",
              "      <td>0.8316</td>\n",
              "      <td>pos</td>\n",
              "    </tr>\n",
              "    <tr>\n",
              "      <th>4</th>\n",
              "      <td>1672902722-5</td>\n",
              "      <td>https://www.tdcj.texas.gov/death_row/dr_execut...</td>\n",
              "      <td>Last Statement</td>\n",
              "      <td>https://www.tdcj.texas.gov/death_row/dr_info/m...</td>\n",
              "      <td>Heavenly Father, I give thanks for this time, ...</td>\n",
              "      <td>heavenly father give thanks time time together...</td>\n",
              "      <td>{'neg': 0.0, 'neu': 0.698, 'pos': 0.302, 'comp...</td>\n",
              "      <td>0.9805</td>\n",
              "      <td>pos</td>\n",
              "    </tr>\n",
              "  </tbody>\n",
              "</table>\n",
              "</div>\n",
              "      <button class=\"colab-df-convert\" onclick=\"convertToInteractive('df-8895f1f7-7640-4a77-a05c-a329dad30d49')\"\n",
              "              title=\"Convert this dataframe to an interactive table.\"\n",
              "              style=\"display:none;\">\n",
              "        \n",
              "  <svg xmlns=\"http://www.w3.org/2000/svg\" height=\"24px\"viewBox=\"0 0 24 24\"\n",
              "       width=\"24px\">\n",
              "    <path d=\"M0 0h24v24H0V0z\" fill=\"none\"/>\n",
              "    <path d=\"M18.56 5.44l.94 2.06.94-2.06 2.06-.94-2.06-.94-.94-2.06-.94 2.06-2.06.94zm-11 1L8.5 8.5l.94-2.06 2.06-.94-2.06-.94L8.5 2.5l-.94 2.06-2.06.94zm10 10l.94 2.06.94-2.06 2.06-.94-2.06-.94-.94-2.06-.94 2.06-2.06.94z\"/><path d=\"M17.41 7.96l-1.37-1.37c-.4-.4-.92-.59-1.43-.59-.52 0-1.04.2-1.43.59L10.3 9.45l-7.72 7.72c-.78.78-.78 2.05 0 2.83L4 21.41c.39.39.9.59 1.41.59.51 0 1.02-.2 1.41-.59l7.78-7.78 2.81-2.81c.8-.78.8-2.07 0-2.86zM5.41 20L4 18.59l7.72-7.72 1.47 1.35L5.41 20z\"/>\n",
              "  </svg>\n",
              "      </button>\n",
              "      \n",
              "  <style>\n",
              "    .colab-df-container {\n",
              "      display:flex;\n",
              "      flex-wrap:wrap;\n",
              "      gap: 12px;\n",
              "    }\n",
              "\n",
              "    .colab-df-convert {\n",
              "      background-color: #E8F0FE;\n",
              "      border: none;\n",
              "      border-radius: 50%;\n",
              "      cursor: pointer;\n",
              "      display: none;\n",
              "      fill: #1967D2;\n",
              "      height: 32px;\n",
              "      padding: 0 0 0 0;\n",
              "      width: 32px;\n",
              "    }\n",
              "\n",
              "    .colab-df-convert:hover {\n",
              "      background-color: #E2EBFA;\n",
              "      box-shadow: 0px 1px 2px rgba(60, 64, 67, 0.3), 0px 1px 3px 1px rgba(60, 64, 67, 0.15);\n",
              "      fill: #174EA6;\n",
              "    }\n",
              "\n",
              "    [theme=dark] .colab-df-convert {\n",
              "      background-color: #3B4455;\n",
              "      fill: #D2E3FC;\n",
              "    }\n",
              "\n",
              "    [theme=dark] .colab-df-convert:hover {\n",
              "      background-color: #434B5C;\n",
              "      box-shadow: 0px 1px 3px 1px rgba(0, 0, 0, 0.15);\n",
              "      filter: drop-shadow(0px 1px 2px rgba(0, 0, 0, 0.3));\n",
              "      fill: #FFFFFF;\n",
              "    }\n",
              "  </style>\n",
              "\n",
              "      <script>\n",
              "        const buttonEl =\n",
              "          document.querySelector('#df-8895f1f7-7640-4a77-a05c-a329dad30d49 button.colab-df-convert');\n",
              "        buttonEl.style.display =\n",
              "          google.colab.kernel.accessAllowed ? 'block' : 'none';\n",
              "\n",
              "        async function convertToInteractive(key) {\n",
              "          const element = document.querySelector('#df-8895f1f7-7640-4a77-a05c-a329dad30d49');\n",
              "          const dataTable =\n",
              "            await google.colab.kernel.invokeFunction('convertToInteractive',\n",
              "                                                     [key], {});\n",
              "          if (!dataTable) return;\n",
              "\n",
              "          const docLinkHtml = 'Like what you see? Visit the ' +\n",
              "            '<a target=\"_blank\" href=https://colab.research.google.com/notebooks/data_table.ipynb>data table notebook</a>'\n",
              "            + ' to learn more about interactive tables.';\n",
              "          element.innerHTML = '';\n",
              "          dataTable['output_type'] = 'display_data';\n",
              "          await google.colab.output.renderOutput(dataTable, element);\n",
              "          const docLink = document.createElement('div');\n",
              "          docLink.innerHTML = docLinkHtml;\n",
              "          element.appendChild(docLink);\n",
              "        }\n",
              "      </script>\n",
              "    </div>\n",
              "  </div>\n",
              "  "
            ]
          },
          "metadata": {},
          "execution_count": 67
        }
      ]
    },
    {
      "cell_type": "code",
      "source": [
        " nltk.download('omw-1.4')\n",
        " nltk.download('averaged_perceptron_tagger')\n",
        "lemmatizer = WordNetLemmatizer()\n",
        "wordnet_map = {\"N\":wordnet.NOUN, \"V\":wordnet.VERB, \"J\":wordnet.ADJ, \"R\":wordnet.ADV}\n",
        "def lemmatize_words(text):\n",
        "    pos_tagged_text = nltk.pos_tag(text.split())\n",
        "    return \" \".join([lemmatizer.lemmatize(word, wordnet_map.get(pos[0], wordnet.NOUN)) for word, pos in pos_tagged_text])\n",
        "\n",
        "data[\"text\"] = data[\"text\"].apply(lambda text: lemmatize_words(text))\n",
        "data.head()"
      ],
      "metadata": {
        "colab": {
          "base_uri": "https://localhost:8080/",
          "height": 759
        },
        "id": "IBDh-nEEQbMo",
        "outputId": "575d383b-ef2e-4fee-b13c-eb0ac2a353a2"
      },
      "execution_count": 68,
      "outputs": [
        {
          "output_type": "stream",
          "name": "stderr",
          "text": [
            "[nltk_data] Downloading package omw-1.4 to /root/nltk_data...\n",
            "[nltk_data]   Package omw-1.4 is already up-to-date!\n",
            "[nltk_data] Downloading package averaged_perceptron_tagger to\n",
            "[nltk_data]     /root/nltk_data...\n",
            "[nltk_data]   Package averaged_perceptron_tagger is already up-to-\n",
            "[nltk_data]       date!\n"
          ]
        },
        {
          "output_type": "execute_result",
          "data": {
            "text/plain": [
              "  web-scraper-order                              web-scraper-start-url  \\\n",
              "0      1672902707-1  https://www.tdcj.texas.gov/death_row/dr_execut...   \n",
              "1      1672902711-2  https://www.tdcj.texas.gov/death_row/dr_execut...   \n",
              "2      1672902715-3  https://www.tdcj.texas.gov/death_row/dr_execut...   \n",
              "3      1672902718-4  https://www.tdcj.texas.gov/death_row/dr_execut...   \n",
              "4      1672902722-5  https://www.tdcj.texas.gov/death_row/dr_execut...   \n",
              "\n",
              "             link                                          link-href  \\\n",
              "0  Last Statement  https://www.tdcj.texas.gov/death_row/dr_info/b...   \n",
              "1  Last Statement  https://www.tdcj.texas.gov/death_row/dr_info/o...   \n",
              "2  Last Statement  https://www.tdcj.texas.gov/death_row/dr_info/b...   \n",
              "3  Last Statement  https://www.tdcj.texas.gov/death_row/dr_info/s...   \n",
              "4  Last Statement  https://www.tdcj.texas.gov/death_row/dr_info/m...   \n",
              "\n",
              "                                      last statement  \\\n",
              "0  Statement to the Media: I, at this very moment...   \n",
              "1  What is about to transpire in a few moments is...   \n",
              "2  When asked if he had a last statement, he repl...   \n",
              "3  I pray that my family will rejoice and will fo...   \n",
              "4  Heavenly Father, I give thanks for this time, ...   \n",
              "\n",
              "                                                text  \\\n",
              "0  statement medium moment absolutely fear may ha...   \n",
              "1  transpire moment wrong however human being mak...   \n",
              "2  ask last statement reply yes doi hope one day ...   \n",
              "3                  pray family rejoice forgive thank   \n",
              "4  heavenly father give thanks time time together...   \n",
              "\n",
              "                                    sentiment_scores  compound sentiment  \n",
              "0  {'neg': 0.104, 'neu': 0.872, 'pos': 0.023, 'co...   -0.8100       neg  \n",
              "1  {'neg': 0.103, 'neu': 0.639, 'pos': 0.259, 'co...    0.9794       pos  \n",
              "2  {'neg': 0.159, 'neu': 0.706, 'pos': 0.135, 'co...   -0.5778       neg  \n",
              "3  {'neg': 0.0, 'neu': 0.417, 'pos': 0.583, 'comp...    0.8316       pos  \n",
              "4  {'neg': 0.0, 'neu': 0.698, 'pos': 0.302, 'comp...    0.9805       pos  "
            ],
            "text/html": [
              "\n",
              "  <div id=\"df-1987fcc0-228e-4198-bac5-993222886820\">\n",
              "    <div class=\"colab-df-container\">\n",
              "      <div>\n",
              "<style scoped>\n",
              "    .dataframe tbody tr th:only-of-type {\n",
              "        vertical-align: middle;\n",
              "    }\n",
              "\n",
              "    .dataframe tbody tr th {\n",
              "        vertical-align: top;\n",
              "    }\n",
              "\n",
              "    .dataframe thead th {\n",
              "        text-align: right;\n",
              "    }\n",
              "</style>\n",
              "<table border=\"1\" class=\"dataframe\">\n",
              "  <thead>\n",
              "    <tr style=\"text-align: right;\">\n",
              "      <th></th>\n",
              "      <th>web-scraper-order</th>\n",
              "      <th>web-scraper-start-url</th>\n",
              "      <th>link</th>\n",
              "      <th>link-href</th>\n",
              "      <th>last statement</th>\n",
              "      <th>text</th>\n",
              "      <th>sentiment_scores</th>\n",
              "      <th>compound</th>\n",
              "      <th>sentiment</th>\n",
              "    </tr>\n",
              "  </thead>\n",
              "  <tbody>\n",
              "    <tr>\n",
              "      <th>0</th>\n",
              "      <td>1672902707-1</td>\n",
              "      <td>https://www.tdcj.texas.gov/death_row/dr_execut...</td>\n",
              "      <td>Last Statement</td>\n",
              "      <td>https://www.tdcj.texas.gov/death_row/dr_info/b...</td>\n",
              "      <td>Statement to the Media: I, at this very moment...</td>\n",
              "      <td>statement medium moment absolutely fear may ha...</td>\n",
              "      <td>{'neg': 0.104, 'neu': 0.872, 'pos': 0.023, 'co...</td>\n",
              "      <td>-0.8100</td>\n",
              "      <td>neg</td>\n",
              "    </tr>\n",
              "    <tr>\n",
              "      <th>1</th>\n",
              "      <td>1672902711-2</td>\n",
              "      <td>https://www.tdcj.texas.gov/death_row/dr_execut...</td>\n",
              "      <td>Last Statement</td>\n",
              "      <td>https://www.tdcj.texas.gov/death_row/dr_info/o...</td>\n",
              "      <td>What is about to transpire in a few moments is...</td>\n",
              "      <td>transpire moment wrong however human being mak...</td>\n",
              "      <td>{'neg': 0.103, 'neu': 0.639, 'pos': 0.259, 'co...</td>\n",
              "      <td>0.9794</td>\n",
              "      <td>pos</td>\n",
              "    </tr>\n",
              "    <tr>\n",
              "      <th>2</th>\n",
              "      <td>1672902715-3</td>\n",
              "      <td>https://www.tdcj.texas.gov/death_row/dr_execut...</td>\n",
              "      <td>Last Statement</td>\n",
              "      <td>https://www.tdcj.texas.gov/death_row/dr_info/b...</td>\n",
              "      <td>When asked if he had a last statement, he repl...</td>\n",
              "      <td>ask last statement reply yes doi hope one day ...</td>\n",
              "      <td>{'neg': 0.159, 'neu': 0.706, 'pos': 0.135, 'co...</td>\n",
              "      <td>-0.5778</td>\n",
              "      <td>neg</td>\n",
              "    </tr>\n",
              "    <tr>\n",
              "      <th>3</th>\n",
              "      <td>1672902718-4</td>\n",
              "      <td>https://www.tdcj.texas.gov/death_row/dr_execut...</td>\n",
              "      <td>Last Statement</td>\n",
              "      <td>https://www.tdcj.texas.gov/death_row/dr_info/s...</td>\n",
              "      <td>I pray that my family will rejoice and will fo...</td>\n",
              "      <td>pray family rejoice forgive thank</td>\n",
              "      <td>{'neg': 0.0, 'neu': 0.417, 'pos': 0.583, 'comp...</td>\n",
              "      <td>0.8316</td>\n",
              "      <td>pos</td>\n",
              "    </tr>\n",
              "    <tr>\n",
              "      <th>4</th>\n",
              "      <td>1672902722-5</td>\n",
              "      <td>https://www.tdcj.texas.gov/death_row/dr_execut...</td>\n",
              "      <td>Last Statement</td>\n",
              "      <td>https://www.tdcj.texas.gov/death_row/dr_info/m...</td>\n",
              "      <td>Heavenly Father, I give thanks for this time, ...</td>\n",
              "      <td>heavenly father give thanks time time together...</td>\n",
              "      <td>{'neg': 0.0, 'neu': 0.698, 'pos': 0.302, 'comp...</td>\n",
              "      <td>0.9805</td>\n",
              "      <td>pos</td>\n",
              "    </tr>\n",
              "  </tbody>\n",
              "</table>\n",
              "</div>\n",
              "      <button class=\"colab-df-convert\" onclick=\"convertToInteractive('df-1987fcc0-228e-4198-bac5-993222886820')\"\n",
              "              title=\"Convert this dataframe to an interactive table.\"\n",
              "              style=\"display:none;\">\n",
              "        \n",
              "  <svg xmlns=\"http://www.w3.org/2000/svg\" height=\"24px\"viewBox=\"0 0 24 24\"\n",
              "       width=\"24px\">\n",
              "    <path d=\"M0 0h24v24H0V0z\" fill=\"none\"/>\n",
              "    <path d=\"M18.56 5.44l.94 2.06.94-2.06 2.06-.94-2.06-.94-.94-2.06-.94 2.06-2.06.94zm-11 1L8.5 8.5l.94-2.06 2.06-.94-2.06-.94L8.5 2.5l-.94 2.06-2.06.94zm10 10l.94 2.06.94-2.06 2.06-.94-2.06-.94-.94-2.06-.94 2.06-2.06.94z\"/><path d=\"M17.41 7.96l-1.37-1.37c-.4-.4-.92-.59-1.43-.59-.52 0-1.04.2-1.43.59L10.3 9.45l-7.72 7.72c-.78.78-.78 2.05 0 2.83L4 21.41c.39.39.9.59 1.41.59.51 0 1.02-.2 1.41-.59l7.78-7.78 2.81-2.81c.8-.78.8-2.07 0-2.86zM5.41 20L4 18.59l7.72-7.72 1.47 1.35L5.41 20z\"/>\n",
              "  </svg>\n",
              "      </button>\n",
              "      \n",
              "  <style>\n",
              "    .colab-df-container {\n",
              "      display:flex;\n",
              "      flex-wrap:wrap;\n",
              "      gap: 12px;\n",
              "    }\n",
              "\n",
              "    .colab-df-convert {\n",
              "      background-color: #E8F0FE;\n",
              "      border: none;\n",
              "      border-radius: 50%;\n",
              "      cursor: pointer;\n",
              "      display: none;\n",
              "      fill: #1967D2;\n",
              "      height: 32px;\n",
              "      padding: 0 0 0 0;\n",
              "      width: 32px;\n",
              "    }\n",
              "\n",
              "    .colab-df-convert:hover {\n",
              "      background-color: #E2EBFA;\n",
              "      box-shadow: 0px 1px 2px rgba(60, 64, 67, 0.3), 0px 1px 3px 1px rgba(60, 64, 67, 0.15);\n",
              "      fill: #174EA6;\n",
              "    }\n",
              "\n",
              "    [theme=dark] .colab-df-convert {\n",
              "      background-color: #3B4455;\n",
              "      fill: #D2E3FC;\n",
              "    }\n",
              "\n",
              "    [theme=dark] .colab-df-convert:hover {\n",
              "      background-color: #434B5C;\n",
              "      box-shadow: 0px 1px 3px 1px rgba(0, 0, 0, 0.15);\n",
              "      filter: drop-shadow(0px 1px 2px rgba(0, 0, 0, 0.3));\n",
              "      fill: #FFFFFF;\n",
              "    }\n",
              "  </style>\n",
              "\n",
              "      <script>\n",
              "        const buttonEl =\n",
              "          document.querySelector('#df-1987fcc0-228e-4198-bac5-993222886820 button.colab-df-convert');\n",
              "        buttonEl.style.display =\n",
              "          google.colab.kernel.accessAllowed ? 'block' : 'none';\n",
              "\n",
              "        async function convertToInteractive(key) {\n",
              "          const element = document.querySelector('#df-1987fcc0-228e-4198-bac5-993222886820');\n",
              "          const dataTable =\n",
              "            await google.colab.kernel.invokeFunction('convertToInteractive',\n",
              "                                                     [key], {});\n",
              "          if (!dataTable) return;\n",
              "\n",
              "          const docLinkHtml = 'Like what you see? Visit the ' +\n",
              "            '<a target=\"_blank\" href=https://colab.research.google.com/notebooks/data_table.ipynb>data table notebook</a>'\n",
              "            + ' to learn more about interactive tables.';\n",
              "          element.innerHTML = '';\n",
              "          dataTable['output_type'] = 'display_data';\n",
              "          await google.colab.output.renderOutput(dataTable, element);\n",
              "          const docLink = document.createElement('div');\n",
              "          docLink.innerHTML = docLinkHtml;\n",
              "          element.appendChild(docLink);\n",
              "        }\n",
              "      </script>\n",
              "    </div>\n",
              "  </div>\n",
              "  "
            ]
          },
          "metadata": {},
          "execution_count": 68
        }
      ]
    },
    {
      "cell_type": "code",
      "source": [
        "# PLotting Rating histogram\n",
        "\n",
        "sns.countplot(data['sentiment'])\n",
        "plt.title(\"Distribution of rating using Matplotlib\")\n",
        "plt.show()"
      ],
      "metadata": {
        "colab": {
          "base_uri": "https://localhost:8080/",
          "height": 325
        },
        "id": "aUxCTBTTQjaI",
        "outputId": "0d0d92fc-27f3-41d5-8fdb-128ae9bca454"
      },
      "execution_count": 69,
      "outputs": [
        {
          "output_type": "display_data",
          "data": {
            "text/plain": [
              "<Figure size 432x288 with 1 Axes>"
            ],
            "image/png": "[encoded data removed]"
          },
          "metadata": {}
        }
      ]
    },
    {
      "cell_type": "code",
      "execution_count": 71,
      "metadata": {
        "execution": {
          "iopub.execute_input": "2022-03-20T07:59:32.150866Z",
          "iopub.status.busy": "2022-03-20T07:59:32.150174Z",
          "iopub.status.idle": "2022-03-20T07:59:32.490596Z",
          "shell.execute_reply": "2022-03-20T07:59:32.489917Z",
          "shell.execute_reply.started": "2022-03-20T07:15:37.659789Z"
        },
        "papermill": {
          "duration": 0.429166,
          "end_time": "2022-03-20T07:59:32.490756",
          "exception": false,
          "start_time": "2022-03-20T07:59:32.061590",
          "status": "completed"
        },
        "tags": [],
        "colab": {
          "base_uri": "https://localhost:8080/"
        },
        "id": "dbb05334",
        "outputId": "dc594697-a886-47b7-86df-3558888eaf71"
      },
      "outputs": [
        {
          "output_type": "execute_result",
          "data": {
            "text/plain": [
              "[('love', 787),\n",
              " ('know', 346),\n",
              " ('family', 345),\n",
              " ('thank', 299),\n",
              " ('want', 268),\n",
              " ('go', 263),\n",
              " ('sorry', 260),\n",
              " ('say', 234),\n",
              " ('would', 231),\n",
              " ('like', 223)]"
            ]
          },
          "metadata": {},
          "execution_count": 71
        }
      ],
      "source": [
        "from collections import Counter\n",
        "cnt = Counter()\n",
        "for text in data[\"text\"].values:\n",
        "    for word in text.split():\n",
        "        cnt[word] += 1\n",
        "        \n",
        "cnt.most_common(10)"
      ]
    },
    {
      "cell_type": "code",
      "source": [
        "def convert_Sentiment(sentiment):\n",
        "    if  sentiment == \"pos\":\n",
        "        return 1\n",
        "    elif sentiment == \"neg\":\n",
        "        return 0\n",
        "    \n",
        "data.sentiment = data.sentiment.apply(lambda x : convert_Sentiment(x))"
      ],
      "metadata": {
        "execution": {
          "iopub.status.busy": "2022-02-14T05:17:39.038608Z",
          "iopub.execute_input": "2022-02-14T05:17:39.039451Z",
          "iopub.status.idle": "2022-02-14T05:17:39.059387Z",
          "shell.execute_reply.started": "2022-02-14T05:17:39.039403Z",
          "shell.execute_reply": "2022-02-14T05:17:39.058677Z"
        },
        "trusted": true,
        "id": "jRz_QE5Rfwtk"
      },
      "execution_count": 72,
      "outputs": []
    },
    {
      "cell_type": "code",
      "execution_count": 73,
      "metadata": {
        "execution": {
          "iopub.execute_input": "2022-03-20T07:59:35.467967Z",
          "iopub.status.busy": "2022-03-20T07:59:35.467262Z",
          "iopub.status.idle": "2022-03-20T07:59:35.478514Z",
          "shell.execute_reply": "2022-03-20T07:59:35.477551Z",
          "shell.execute_reply.started": "2022-03-20T07:15:38.199753Z"
        },
        "papermill": {
          "duration": 0.098499,
          "end_time": "2022-03-20T07:59:35.478792",
          "exception": false,
          "start_time": "2022-03-20T07:59:35.380293",
          "status": "completed"
        },
        "tags": [],
        "id": "3a908a71"
      },
      "outputs": [],
      "source": [
        "train, test = train_test_split(data, test_size = 0.3, stratify = data['sentiment'], random_state = 42)"
      ]
    },
    {
      "cell_type": "code",
      "execution_count": 74,
      "metadata": {
        "execution": {
          "iopub.execute_input": "2022-03-20T07:59:35.640427Z",
          "iopub.status.busy": "2022-03-20T07:59:35.639765Z",
          "iopub.status.idle": "2022-03-20T07:59:37.043837Z",
          "shell.execute_reply": "2022-03-20T07:59:37.044370Z",
          "shell.execute_reply.started": "2022-03-20T07:15:38.218081Z"
        },
        "papermill": {
          "duration": 1.486582,
          "end_time": "2022-03-20T07:59:37.044547",
          "exception": false,
          "start_time": "2022-03-20T07:59:35.557965",
          "status": "completed"
        },
        "tags": [],
        "id": "30cbc2a5"
      },
      "outputs": [],
      "source": [
        "cv= CountVectorizer(binary=True, min_df = 10, max_df = 0.95)\n",
        "cv.fit_transform(train['text'].values)\n",
        "train_feature_set=cv.transform(train['text'].values)\n",
        "test_feature_set=cv.transform(test['text'].values)"
      ]
    },
    {
      "cell_type": "code",
      "execution_count": 75,
      "metadata": {
        "execution": {
          "iopub.execute_input": "2022-03-20T07:59:37.213344Z",
          "iopub.status.busy": "2022-03-20T07:59:37.212477Z",
          "iopub.status.idle": "2022-03-20T07:59:37.216406Z",
          "shell.execute_reply": "2022-03-20T07:59:37.215770Z",
          "shell.execute_reply.started": "2022-03-20T07:15:39.668494Z"
        },
        "papermill": {
          "duration": 0.091403,
          "end_time": "2022-03-20T07:59:37.216541",
          "exception": false,
          "start_time": "2022-03-20T07:59:37.125138",
          "status": "completed"
        },
        "tags": [],
        "colab": {
          "base_uri": "https://localhost:8080/"
        },
        "id": "ff258d6e",
        "outputId": "c7229ae5-b409-42d7-e557-8748affe2748"
      },
      "outputs": [
        {
          "output_type": "execute_result",
          "data": {
            "text/plain": [
              "<332x208 sparse matrix of type '<class 'numpy.int64'>'\n",
              "\twith 6365 stored elements in Compressed Sparse Row format>"
            ]
          },
          "metadata": {},
          "execution_count": 75
        }
      ],
      "source": [
        "train_feature_set"
      ]
    },
    {
      "cell_type": "code",
      "execution_count": 76,
      "metadata": {
        "execution": {
          "iopub.execute_input": "2022-03-20T07:59:37.380758Z",
          "iopub.status.busy": "2022-03-20T07:59:37.379940Z",
          "iopub.status.idle": "2022-03-20T07:59:37.383224Z",
          "shell.execute_reply": "2022-03-20T07:59:37.383729Z",
          "shell.execute_reply.started": "2022-03-20T07:15:39.679571Z"
        },
        "papermill": {
          "duration": 0.089302,
          "end_time": "2022-03-20T07:59:37.383901",
          "exception": false,
          "start_time": "2022-03-20T07:59:37.294599",
          "status": "completed"
        },
        "tags": [],
        "colab": {
          "base_uri": "https://localhost:8080/"
        },
        "id": "fd5e7199",
        "outputId": "eb17ad50-a291-4897-c553-cf81f4ed32e7"
      },
      "outputs": [
        {
          "output_type": "execute_result",
          "data": {
            "text/plain": [
              "208"
            ]
          },
          "metadata": {},
          "execution_count": 76
        }
      ],
      "source": [
        "train_feature_set.shape[1]"
      ]
    },
    {
      "cell_type": "code",
      "execution_count": 77,
      "metadata": {
        "execution": {
          "iopub.execute_input": "2022-03-20T07:59:37.723921Z",
          "iopub.status.busy": "2022-03-20T07:59:37.723003Z",
          "iopub.status.idle": "2022-03-20T07:59:37.726475Z",
          "shell.execute_reply": "2022-03-20T07:59:37.725959Z",
          "shell.execute_reply.started": "2022-03-20T07:15:39.712792Z"
        },
        "papermill": {
          "duration": 0.09009,
          "end_time": "2022-03-20T07:59:37.726618",
          "exception": false,
          "start_time": "2022-03-20T07:59:37.636528",
          "status": "completed"
        },
        "tags": [],
        "id": "f06bf20a"
      },
      "outputs": [],
      "source": [
        "y_train = train['sentiment'].values\n",
        "y_test = test['sentiment'].values"
      ]
    },
    {
      "cell_type": "code",
      "source": [
        "from sklearn.model_selection import StratifiedKFold, train_test_split\n",
        "from sklearn.feature_extraction.text import CountVectorizer, TfidfVectorizer\n",
        "from sklearn.linear_model import LogisticRegression\n",
        "from sklearn.ensemble import RandomForestClassifier\n",
        "from sklearn.naive_bayes import MultinomialNB\n",
        "from sklearn.svm import SVC\n",
        "from sklearn.metrics import accuracy_score"
      ],
      "metadata": {
        "execution": {
          "iopub.status.busy": "2022-02-14T05:24:43.402035Z",
          "iopub.execute_input": "2022-02-14T05:24:43.402309Z",
          "iopub.status.idle": "2022-02-14T05:24:43.495016Z",
          "shell.execute_reply.started": "2022-02-14T05:24:43.402279Z",
          "shell.execute_reply": "2022-02-14T05:24:43.494221Z"
        },
        "trusted": true,
        "id": "mTQOUtQQfwti"
      },
      "execution_count": 78,
      "outputs": []
    },
    {
      "cell_type": "code",
      "execution_count": 90,
      "metadata": {
        "execution": {
          "iopub.execute_input": "2022-03-20T07:59:38.055560Z",
          "iopub.status.busy": "2022-03-20T07:59:38.054343Z",
          "iopub.status.idle": "2022-03-20T07:59:38.363162Z",
          "shell.execute_reply": "2022-03-20T07:59:38.362508Z",
          "shell.execute_reply.started": "2022-03-20T07:15:39.726191Z"
        },
        "papermill": {
          "duration": 0.396173,
          "end_time": "2022-03-20T07:59:38.363304",
          "exception": false,
          "start_time": "2022-03-20T07:59:37.967131",
          "status": "completed"
        },
        "tags": [],
        "colab": {
          "base_uri": "https://localhost:8080/"
        },
        "id": "e3ff904c",
        "outputId": "01e57484-93a5-4f0b-b0a0-09729d39f282"
      },
      "outputs": [
        {
          "output_type": "stream",
          "name": "stdout",
          "text": [
            "Accuracy:  0.867\n",
            "F1:  0.928\n"
          ]
        }
      ],
      "source": [
        "lr = LogisticRegression(random_state = 42, max_iter=1000)\n",
        "lr.fit(train_feature_set,y_train)\n",
        "y_pred = lr.predict(test_feature_set)\n",
        "print(\"Accuracy: \",round(metrics.accuracy_score(y_test,y_pred),3))\n",
        "print(\"F1: \",round(metrics.f1_score(y_test, y_pred),3))"
      ]
    },
    {
      "cell_type": "code",
      "execution_count": 91,
      "metadata": {
        "execution": {
          "iopub.execute_input": "2022-03-20T07:59:38.527770Z",
          "iopub.status.busy": "2022-03-20T07:59:38.527087Z",
          "iopub.status.idle": "2022-03-20T07:59:38.533225Z",
          "shell.execute_reply": "2022-03-20T07:59:38.532408Z",
          "shell.execute_reply.started": "2022-03-20T07:15:40.085932Z"
        },
        "papermill": {
          "duration": 0.09086,
          "end_time": "2022-03-20T07:59:38.533382",
          "exception": false,
          "start_time": "2022-03-20T07:59:38.442522",
          "status": "completed"
        },
        "tags": [],
        "colab": {
          "base_uri": "https://localhost:8080/"
        },
        "id": "a6ba593d",
        "outputId": "d7a64ea0-9d16-47f6-ac43-87cbb5e88b4f"
      },
      "outputs": [
        {
          "output_type": "execute_result",
          "data": {
            "text/plain": [
              "array([[  2,  16],\n",
              "       [  3, 122]])"
            ]
          },
          "metadata": {},
          "execution_count": 91
        }
      ],
      "source": [
        "cm1 = confusion_matrix(y_test, y_pred)\n",
        "cm1"
      ]
    },
    {
      "cell_type": "code",
      "execution_count": 92,
      "metadata": {
        "execution": {
          "iopub.execute_input": "2022-03-20T07:59:38.885283Z",
          "iopub.status.busy": "2022-03-20T07:59:38.884540Z",
          "iopub.status.idle": "2022-03-20T07:59:39.107530Z",
          "shell.execute_reply": "2022-03-20T07:59:39.106770Z",
          "shell.execute_reply.started": "2022-03-20T07:15:40.115035Z"
        },
        "papermill": {
          "duration": 0.312782,
          "end_time": "2022-03-20T07:59:39.107719",
          "exception": false,
          "start_time": "2022-03-20T07:59:38.794937",
          "status": "completed"
        },
        "tags": [],
        "colab": {
          "base_uri": "https://localhost:8080/",
          "height": 301
        },
        "id": "66628ed0",
        "outputId": "4f5d5cc2-8ed4-4299-b366-5f29207d37c9"
      },
      "outputs": [
        {
          "output_type": "execute_result",
          "data": {
            "text/plain": [
              "<matplotlib.axes._subplots.AxesSubplot at 0x7f1079099cd0>"
            ]
          },
          "metadata": {},
          "execution_count": 92
        },
        {
          "output_type": "display_data",
          "data": {
            "text/plain": [
              "<Figure size 432x288 with 2 Axes>"
            ],
            "image/png": "[encoded data removed]"
          },
          "metadata": {}
        }
      ],
      "source": [
        "sns.heatmap(cm1, annot=True)"
      ]
    },
    {
      "cell_type": "code",
      "source": [
        "from sklearn.neighbors import KNeighborsClassifier\n",
        "knn = KNeighborsClassifier()\n",
        "knn.fit(train_feature_set,y_train)\n",
        "y_pred = knn.predict(test_feature_set)\n",
        "print(\"Accuracy: \",round(metrics.accuracy_score(y_test,y_pred),3))\n",
        "print(\"F1: \",round(metrics.f1_score(y_test, y_pred),3))"
      ],
      "metadata": {
        "colab": {
          "base_uri": "https://localhost:8080/"
        },
        "id": "jt3LOCCSmelF",
        "outputId": "3bc5463f-0589-46ef-8e5c-a29c0fe7b663"
      },
      "execution_count": 93,
      "outputs": [
        {
          "output_type": "stream",
          "name": "stdout",
          "text": [
            "Accuracy:  0.895\n",
            "F1:  0.943\n"
          ]
        }
      ]
    },
    {
      "cell_type": "code",
      "source": [
        "cm1 = confusion_matrix(y_test, y_pred)\n",
        "cm1"
      ],
      "metadata": {
        "colab": {
          "base_uri": "https://localhost:8080/"
        },
        "id": "3Hanu1Myngyp",
        "outputId": "21608581-684f-4257-ead6-aaed3e8bb7b3"
      },
      "execution_count": 94,
      "outputs": [
        {
          "output_type": "execute_result",
          "data": {
            "text/plain": [
              "array([[  4,  14],\n",
              "       [  1, 124]])"
            ]
          },
          "metadata": {},
          "execution_count": 94
        }
      ]
    },
    {
      "cell_type": "code",
      "source": [
        "sns.heatmap(cm1, annot=True)"
      ],
      "metadata": {
        "colab": {
          "base_uri": "https://localhost:8080/",
          "height": 300
        },
        "id": "tn9RLacgnlpo",
        "outputId": "0101b371-4204-4e82-bb61-24d3f256c526"
      },
      "execution_count": 95,
      "outputs": [
        {
          "output_type": "execute_result",
          "data": {
            "text/plain": [
              "<matplotlib.axes._subplots.AxesSubplot at 0x7f1079026bb0>"
            ]
          },
          "metadata": {},
          "execution_count": 95
        },
        {
          "output_type": "display_data",
          "data": {
            "text/plain": [
              "<Figure size 432x288 with 2 Axes>"
            ],
            "image/png": "[encoded data removed]"
          },
          "metadata": {}
        }
      ]
    },
    {
      "cell_type": "code",
      "source": [
        "from sklearn.tree import DecisionTreeClassifier\n",
        "dt = DecisionTreeClassifier()\n",
        "dt.fit(train_feature_set,y_train)\n",
        "y_pred = dt.predict(test_feature_set)\n",
        "print(\"Accuracy: \",round(metrics.accuracy_score(y_test,y_pred),3))\n",
        "print(\"F1: \",round(metrics.f1_score(y_test, y_pred),3))"
      ],
      "metadata": {
        "colab": {
          "base_uri": "https://localhost:8080/"
        },
        "id": "sMwDp3MznvxX",
        "outputId": "df28ff26-8ea6-4f59-842f-658569139ef0"
      },
      "execution_count": 98,
      "outputs": [
        {
          "output_type": "stream",
          "name": "stdout",
          "text": [
            "Accuracy:  0.797\n",
            "F1:  0.883\n"
          ]
        }
      ]
    },
    {
      "cell_type": "code",
      "source": [
        "cm1 = confusion_matrix(y_test, y_pred)\n",
        "cm1"
      ],
      "metadata": {
        "colab": {
          "base_uri": "https://localhost:8080/"
        },
        "id": "U4s7L3AUnSqW",
        "outputId": "f2f8c1f7-2caa-4a6d-d5e1-220ace1fdbb0"
      },
      "execution_count": 99,
      "outputs": [
        {
          "output_type": "execute_result",
          "data": {
            "text/plain": [
              "array([[  5,  13],\n",
              "       [ 16, 109]])"
            ]
          },
          "metadata": {},
          "execution_count": 99
        }
      ]
    },
    {
      "cell_type": "code",
      "source": [
        "sns.heatmap(cm1, annot=True)"
      ],
      "metadata": {
        "colab": {
          "base_uri": "https://localhost:8080/",
          "height": 300
        },
        "id": "TlfGBFPVoGmt",
        "outputId": "97ff6781-652c-4ac3-a31f-ab04ee33e20a"
      },
      "execution_count": 100,
      "outputs": [
        {
          "output_type": "execute_result",
          "data": {
            "text/plain": [
              "<matplotlib.axes._subplots.AxesSubplot at 0x7f1078ebc640>"
            ]
          },
          "metadata": {},
          "execution_count": 100
        },
        {
          "output_type": "display_data",
          "data": {
            "text/plain": [
              "<Figure size 432x288 with 2 Axes>"
            ],
            "image/png": "[encoded data removed]"
          },
          "metadata": {}
        }
      ]
    },
    {
      "cell_type": "code",
      "execution_count": 101,
      "metadata": {
        "execution": {
          "iopub.execute_input": "2022-03-20T07:59:39.685546Z",
          "iopub.status.busy": "2022-03-20T07:59:39.684865Z",
          "iopub.status.idle": "2022-03-20T07:59:39.694903Z",
          "shell.execute_reply": "2022-03-20T07:59:39.695523Z",
          "shell.execute_reply.started": "2022-03-20T07:15:40.596464Z"
        },
        "papermill": {
          "duration": 0.100155,
          "end_time": "2022-03-20T07:59:39.695721",
          "exception": false,
          "start_time": "2022-03-20T07:59:39.595566",
          "status": "completed"
        },
        "tags": [],
        "colab": {
          "base_uri": "https://localhost:8080/"
        },
        "id": "25506eca",
        "outputId": "de873b96-aa50-46b3-9931-f811d958b426"
      },
      "outputs": [
        {
          "output_type": "stream",
          "name": "stdout",
          "text": [
            "Feature:  all Score:  -0.20366164602917408\n",
            "Feature:  allow Score:  0.5209545290618371\n",
            "Feature:  alright Score:  0.3961039596564326\n",
            "Feature:  also Score:  0.3127113738436748\n",
            "Feature:  always Score:  0.6090508623498573\n",
            "Feature:  anyone Score:  -0.8744708295085943\n",
            "Feature:  anything Score:  -0.39658197545690804\n",
            "Feature:  apologize Score:  -0.21155054650999755\n",
            "Feature:  appreciate Score:  0.34524229586401484\n",
            "Feature:  ask Score:  0.06853207301673617\n"
          ]
        }
      ],
      "source": [
        "feature_importance = lr.coef_[0][:10]\n",
        "for i,v in enumerate(feature_importance):\n",
        "    print('Feature: ', list(cv.vocabulary_.keys())[list(cv.vocabulary_.values()).index(i)], 'Score: ', v)"
      ]
    },
    {
      "cell_type": "code",
      "execution_count": 102,
      "metadata": {
        "execution": {
          "iopub.execute_input": "2022-03-20T07:59:39.869519Z",
          "iopub.status.busy": "2022-03-20T07:59:39.868823Z",
          "iopub.status.idle": "2022-03-20T07:59:39.871560Z",
          "shell.execute_reply": "2022-03-20T07:59:39.872207Z",
          "shell.execute_reply.started": "2022-03-20T07:15:40.617997Z"
        },
        "papermill": {
          "duration": 0.092145,
          "end_time": "2022-03-20T07:59:39.872399",
          "exception": false,
          "start_time": "2022-03-20T07:59:39.780254",
          "status": "completed"
        },
        "tags": [],
        "id": "b18c9f22"
      },
      "outputs": [],
      "source": [
        "feature_importance = lr.coef_[0]\n",
        "sorted_idx = np.argsort(feature_importance)"
      ]
    },
    {
      "cell_type": "code",
      "execution_count": 103,
      "metadata": {
        "execution": {
          "iopub.execute_input": "2022-03-20T07:59:40.220520Z",
          "iopub.status.busy": "2022-03-20T07:59:40.214439Z",
          "iopub.status.idle": "2022-03-20T07:59:40.229947Z",
          "shell.execute_reply": "2022-03-20T07:59:40.229233Z",
          "shell.execute_reply.started": "2022-03-20T07:15:40.625683Z"
        },
        "papermill": {
          "duration": 0.103009,
          "end_time": "2022-03-20T07:59:40.230115",
          "exception": false,
          "start_time": "2022-03-20T07:59:40.127106",
          "status": "completed"
        },
        "tags": [],
        "colab": {
          "base_uri": "https://localhost:8080/"
        },
        "id": "ddf6b2be",
        "outputId": "7ff29a1e-33be-42fe-b402-8e1044713c15"
      },
      "outputs": [
        {
          "output_type": "stream",
          "name": "stdout",
          "text": [
            "['love', 'thank', 'ready', 'friend', 'hope', 'lord', 'strong', 'much', 'thing', 'god']\n"
          ]
        }
      ],
      "source": [
        "top_10_pos_w = [list(cv.vocabulary_.keys())[list(cv.vocabulary_.values()).index(w)] for w in sorted_idx[range(-1,-11, -1)]]\n",
        "print(top_10_pos_w)"
      ]
    },
    {
      "cell_type": "code",
      "execution_count": 104,
      "metadata": {
        "execution": {
          "iopub.execute_input": "2022-03-20T07:59:40.411207Z",
          "iopub.status.busy": "2022-03-20T07:59:40.410519Z",
          "iopub.status.idle": "2022-03-20T07:59:40.700137Z",
          "shell.execute_reply": "2022-03-20T07:59:40.700647Z",
          "shell.execute_reply.started": "2022-03-20T07:15:40.649081Z"
        },
        "papermill": {
          "duration": 0.383032,
          "end_time": "2022-03-20T07:59:40.700846",
          "exception": false,
          "start_time": "2022-03-20T07:59:40.317814",
          "status": "completed"
        },
        "tags": [],
        "colab": {
          "base_uri": "https://localhost:8080/",
          "height": 462
        },
        "id": "155de8e1",
        "outputId": "a87e3625-ba28-455b-ba50-1ce3ee185eba"
      },
      "outputs": [
        {
          "output_type": "display_data",
          "data": {
            "text/plain": [
              "<Figure size 720x432 with 1 Axes>"
            ],
            "image/png": "[encoded data removed]"
          },
          "metadata": {}
        }
      ],
      "source": [
        "fig = plt.figure(figsize=(10, 6))\n",
        "ax = sns.barplot(x=top_10_pos_w, y=feature_importance[sorted_idx[range(-1,-11, -1)]])\n",
        "plt.title(\"Most Important Words Used for Positive Sentiment\",fontsize = 20)\n",
        "x_locs,x_labels = plt.xticks()\n",
        "plt.setp(x_labels, rotation = 40)\n",
        "plt.ylabel('Feature Importance', fontsize = 12)\n",
        "plt.xlabel('Word', fontsize = 12);"
      ]
    },
    {
      "cell_type": "code",
      "execution_count": 105,
      "metadata": {
        "execution": {
          "iopub.execute_input": "2022-03-20T07:59:41.059870Z",
          "iopub.status.busy": "2022-03-20T07:59:41.059144Z",
          "iopub.status.idle": "2022-03-20T07:59:41.066175Z",
          "shell.execute_reply": "2022-03-20T07:59:41.065500Z",
          "shell.execute_reply.started": "2022-03-20T07:15:40.972635Z"
        },
        "papermill": {
          "duration": 0.106417,
          "end_time": "2022-03-20T07:59:41.066319",
          "exception": false,
          "start_time": "2022-03-20T07:59:40.959902",
          "status": "completed"
        },
        "tags": [],
        "colab": {
          "base_uri": "https://localhost:8080/"
        },
        "id": "cb0cc9b4",
        "outputId": "9efeb6af-1dc2-49cf-8297-a2b23f30b9f0"
      },
      "outputs": [
        {
          "output_type": "stream",
          "name": "stdout",
          "text": [
            "['death', 'happen', 'die', 'one', 'anyone', 'wrong', 'heart', 'lie', 'murder', 'evil']\n"
          ]
        }
      ],
      "source": [
        "top_10_neg_w = [list(cv.vocabulary_.keys())[list(cv.vocabulary_.values()).index(w)] for w in sorted_idx[:10]]\n",
        "print(top_10_neg_w)"
      ]
    },
    {
      "cell_type": "code",
      "execution_count": 106,
      "metadata": {
        "execution": {
          "iopub.execute_input": "2022-03-20T07:59:41.244972Z",
          "iopub.status.busy": "2022-03-20T07:59:41.244237Z",
          "iopub.status.idle": "2022-03-20T07:59:41.529675Z",
          "shell.execute_reply": "2022-03-20T07:59:41.529041Z",
          "shell.execute_reply.started": "2022-03-20T07:15:40.990334Z"
        },
        "papermill": {
          "duration": 0.376773,
          "end_time": "2022-03-20T07:59:41.529862",
          "exception": false,
          "start_time": "2022-03-20T07:59:41.153089",
          "status": "completed"
        },
        "tags": [],
        "colab": {
          "base_uri": "https://localhost:8080/",
          "height": 467
        },
        "id": "d8d0f948",
        "outputId": "27b067e5-b67e-4f3f-bbfa-757b44f94654"
      },
      "outputs": [
        {
          "output_type": "display_data",
          "data": {
            "text/plain": [
              "<Figure size 720x432 with 1 Axes>"
            ],
            "image/png": "[encoded data removed]"
          },
          "metadata": {}
        }
      ],
      "source": [
        "fig = plt.figure(figsize=(10, 6))\n",
        "ax = sns.barplot(x=top_10_neg_w, y=feature_importance[sorted_idx[:10]])\n",
        "plt.title(\"Most Important Words Used for Negative Sentiment\",fontsize = 20)\n",
        "x_locs,x_labels = plt.xticks()\n",
        "plt.setp(x_labels, rotation = 40)\n",
        "plt.ylabel('Feature Importance', fontsize = 12)\n",
        "plt.xlabel('Word', fontsize = 12);"
      ]
    },
    {
      "cell_type": "code",
      "source": [
        "import tensorflow as tf\n",
        "from tensorflow.keras.preprocessing.text import Tokenizer\n",
        "from tensorflow.keras.preprocessing.sequence import pad_sequences\n",
        "from tensorflow.keras.models import Sequential\n",
        "from tensorflow.keras.layers import LSTM,Dense, Dropout, SpatialDropout1D\n",
        "from tensorflow.keras.layers import Embedding"
      ],
      "metadata": {
        "id": "CuShph57puWy"
      },
      "execution_count": 107,
      "outputs": []
    },
    {
      "cell_type": "code",
      "source": [
        "#factorize the data i.e covert the text into numbers\n",
        "sentiment_label = data.sentiment.factorize()\n",
        "sentiment_label"
      ],
      "metadata": {
        "colab": {
          "base_uri": "https://localhost:8080/"
        },
        "id": "HTGPylqkpOKL",
        "outputId": "be1423ac-16a8-43c1-e731-b82294d67710"
      },
      "execution_count": 108,
      "outputs": [
        {
          "output_type": "execute_result",
          "data": {
            "text/plain": [
              "(array([0, 1, 0, 1, 1, 1, 1, 1, 1, 1, 1, 1, 0, 0, 1, 1, 1, 1, 0, 1, 1, 0,\n",
              "        1, 1, 1, 1, 1, 1, 1, 1, 1, 1, 1, 1, 1, 0, 0, 1, 1, 1, 1, 1, 1, 1,\n",
              "        1, 1, 1, 0, 1, 0, 1, 1, 1, 1, 1, 1, 0, 1, 1, 1, 0, 1, 1, 1, 0, 1,\n",
              "        1, 1, 1, 1, 1, 0, 1, 1, 1, 1, 1, 1, 1, 1, 0, 1, 1, 1, 1, 1, 1, 0,\n",
              "        1, 1, 1, 1, 1, 1, 1, 1, 1, 0, 1, 1, 1, 1, 1, 0, 1, 1, 1, 1, 1, 1,\n",
              "        1, 1, 0, 1, 0, 0, 1, 1, 1, 1, 0, 1, 1, 1, 1, 1, 1, 1, 1, 1, 1, 1,\n",
              "        1, 1, 1, 1, 1, 1, 1, 0, 1, 1, 1, 1, 1, 1, 0, 1, 1, 1, 1, 1, 1, 0,\n",
              "        1, 1, 0, 1, 1, 1, 1, 1, 1, 1, 1, 1, 1, 1, 1, 1, 1, 1, 0, 1, 1, 1,\n",
              "        1, 1, 1, 1, 1, 1, 1, 0, 1, 1, 1, 1, 0, 1, 1, 1, 1, 0, 1, 1, 0, 1,\n",
              "        1, 1, 1, 1, 1, 1, 1, 1, 1, 0, 0, 1, 1, 1, 1, 1, 1, 1, 1, 0, 1, 0,\n",
              "        1, 1, 1, 1, 1, 1, 1, 1, 1, 1, 1, 1, 1, 1, 1, 0, 1, 1, 1, 1, 1, 1,\n",
              "        1, 1, 1, 1, 1, 1, 1, 1, 1, 1, 1, 0, 1, 1, 1, 1, 0, 1, 1, 1, 1, 1,\n",
              "        1, 1, 1, 1, 1, 1, 1, 1, 1, 1, 1, 1, 1, 0, 1, 1, 1, 1, 1, 1, 1, 1,\n",
              "        1, 1, 1, 1, 1, 1, 1, 1, 1, 1, 1, 1, 1, 1, 1, 1, 1, 1, 0, 1, 1, 1,\n",
              "        1, 1, 1, 1, 1, 1, 1, 1, 1, 1, 1, 1, 0, 1, 1, 1, 1, 1, 1, 1, 0, 1,\n",
              "        1, 0, 0, 1, 1, 1, 1, 1, 1, 1, 1, 1, 1, 1, 0, 1, 1, 1, 1, 1, 1, 1,\n",
              "        1, 0, 1, 1, 1, 1, 1, 1, 0, 0, 1, 0, 1, 1, 1, 1, 1, 1, 1, 1, 0, 1,\n",
              "        1, 1, 1, 1, 1, 1, 1, 1, 1, 1, 0, 1, 1, 1, 1, 1, 1, 1, 1, 0, 1, 0,\n",
              "        1, 1, 1, 1, 0, 1, 1, 1, 1, 0, 1, 1, 1, 1, 1, 1, 1, 1, 1, 1, 1, 1,\n",
              "        1, 1, 1, 1, 1, 1, 1, 1, 1, 1, 1, 1, 1, 1, 1, 1, 1, 1, 1, 1, 1, 1,\n",
              "        1, 1, 1, 1, 1, 1, 1, 1, 1, 1, 1, 0, 1, 1, 1, 1, 1, 0, 1, 1, 0, 1,\n",
              "        1, 1, 1, 1, 0, 1, 1, 0, 1, 1, 1, 1, 1]),\n",
              " Int64Index([0, 1], dtype='int64'))"
            ]
          },
          "metadata": {},
          "execution_count": 108
        }
      ]
    },
    {
      "cell_type": "code",
      "source": [
        "#tokenize the sentences i.e. break them down into smaller bits\n",
        "statement = data.text\n",
        "tokenizer = Tokenizer(num_words=10000)\n",
        "tokenizer.fit_on_texts(statement)\n",
        "vocab_size = len(tokenizer.word_index) + 1\n",
        "encoded_docs = tokenizer.texts_to_sequences(statement)\n",
        "padded_sequence = pad_sequences(encoded_docs, maxlen=200)"
      ],
      "metadata": {
        "id": "gMfgB7x8pyNh"
      },
      "execution_count": 109,
      "outputs": []
    },
    {
      "cell_type": "code",
      "source": [
        "embedding_vector_length = 32\n",
        "model = Sequential() \n",
        "model.add(Embedding(vocab_size, embedding_vector_length, input_length=200) )\n",
        "model.add(SpatialDropout1D(0.25))\n",
        "model.add(LSTM(50, dropout=0.5, recurrent_dropout=0.5))\n",
        "model.add(Dropout(0.2))\n",
        "model.add(Dense(1, activation='sigmoid')) \n",
        "model.compile(loss='binary_crossentropy',optimizer='adam', metrics=['accuracy'])  \n",
        "print(model.summary())"
      ],
      "metadata": {
        "colab": {
          "base_uri": "https://localhost:8080/"
        },
        "id": "w93zyLjPp9zg",
        "outputId": "1ab27cc5-888c-4623-c1e8-90c8ab21578c"
      },
      "execution_count": 110,
      "outputs": [
        {
          "output_type": "stream",
          "name": "stdout",
          "text": [
            "Model: \"sequential\"\n",
            "_________________________________________________________________\n",
            " Layer (type)                Output Shape              Param #   \n",
            "=================================================================\n",
            " embedding (Embedding)       (None, 200, 32)           87424     \n",
            "                                                                 \n",
            " spatial_dropout1d (SpatialD  (None, 200, 32)          0         \n",
            " ropout1D)                                                       \n",
            "                                                                 \n",
            " lstm (LSTM)                 (None, 50)                16600     \n",
            "                                                                 \n",
            " dropout (Dropout)           (None, 50)                0         \n",
            "                                                                 \n",
            " dense (Dense)               (None, 1)                 51        \n",
            "                                                                 \n",
            "=================================================================\n",
            "Total params: 104,075\n",
            "Trainable params: 104,075\n",
            "Non-trainable params: 0\n",
            "_________________________________________________________________\n",
            "None\n"
          ]
        }
      ]
    },
    {
      "cell_type": "code",
      "source": [
        "history = model.fit(padded_sequence,sentiment_label[0],validation_split=0.25,epochs=10,batch_size=64)"
      ],
      "metadata": {
        "colab": {
          "base_uri": "https://localhost:8080/"
        },
        "id": "FlzrJsnjqZGe",
        "outputId": "48949d98-e440-4626-8e1c-7906d49f29f2"
      },
      "execution_count": 111,
      "outputs": [
        {
          "output_type": "stream",
          "name": "stdout",
          "text": [
            "Epoch 1/10\n",
            "6/6 [==============================] - 6s 557ms/step - loss: 0.6844 - accuracy: 0.7416 - val_loss: 0.6683 - val_accuracy: 0.8824\n",
            "Epoch 2/10\n",
            "6/6 [==============================] - 2s 305ms/step - loss: 0.6508 - accuracy: 0.8708 - val_loss: 0.6227 - val_accuracy: 0.8824\n",
            "Epoch 3/10\n",
            "6/6 [==============================] - 2s 307ms/step - loss: 0.5771 - accuracy: 0.8708 - val_loss: 0.4615 - val_accuracy: 0.8824\n",
            "Epoch 4/10\n",
            "6/6 [==============================] - 2s 298ms/step - loss: 0.4050 - accuracy: 0.8708 - val_loss: 0.3778 - val_accuracy: 0.8824\n",
            "Epoch 5/10\n",
            "6/6 [==============================] - 2s 299ms/step - loss: 0.3993 - accuracy: 0.8708 - val_loss: 0.3725 - val_accuracy: 0.8824\n",
            "Epoch 6/10\n",
            "6/6 [==============================] - 2s 295ms/step - loss: 0.3945 - accuracy: 0.8708 - val_loss: 0.3633 - val_accuracy: 0.8824\n",
            "Epoch 7/10\n",
            "6/6 [==============================] - 2s 297ms/step - loss: 0.3934 - accuracy: 0.8708 - val_loss: 0.3629 - val_accuracy: 0.8824\n",
            "Epoch 8/10\n",
            "6/6 [==============================] - 2s 298ms/step - loss: 0.3889 - accuracy: 0.8708 - val_loss: 0.3633 - val_accuracy: 0.8824\n",
            "Epoch 9/10\n",
            "6/6 [==============================] - 2s 298ms/step - loss: 0.3853 - accuracy: 0.8708 - val_loss: 0.3619 - val_accuracy: 0.8824\n",
            "Epoch 10/10\n",
            "6/6 [==============================] - 3s 522ms/step - loss: 0.3727 - accuracy: 0.8708 - val_loss: 0.3617 - val_accuracy: 0.8824\n"
          ]
        }
      ]
    },
    {
      "cell_type": "code",
      "source": [
        "plt.plot(history.history['accuracy'], label='acc')\n",
        "plt.plot(history.history['val_accuracy'], label='val_acc')\n",
        "plt.legend()\n",
        "plt.show()"
      ],
      "metadata": {
        "colab": {
          "base_uri": "https://localhost:8080/",
          "height": 282
        },
        "id": "f-b0BpxEqv1q",
        "outputId": "9a2a7f0b-528e-4e69-c727-5b9a33f1ee94"
      },
      "execution_count": 112,
      "outputs": [
        {
          "output_type": "display_data",
          "data": {
            "text/plain": [
              "<Figure size 432x288 with 1 Axes>"
            ],
            "image/png": "[encoded data removed]"
          },
          "metadata": {}
        }
      ]
    },
    {
      "cell_type": "code",
      "source": [
        "plt.plot(history.history['loss'], label='loss')\n",
        "plt.plot(history.history['val_loss'], label='val_loss')\n",
        "plt.legend()\n",
        "plt.show()"
      ],
      "metadata": {
        "colab": {
          "base_uri": "https://localhost:8080/",
          "height": 287
        },
        "id": "uEOZydb1rfND",
        "outputId": "fd337842-32c6-4b7e-9647-79a4124998b2"
      },
      "execution_count": 113,
      "outputs": [
        {
          "output_type": "display_data",
          "data": {
            "text/plain": [
              "<Figure size 432x288 with 1 Axes>"
            ],
            "image/png": "[encoded data removed]"
          },
          "metadata": {}
        }
      ]
    },
    {
      "cell_type": "code",
      "source": [
        "tf.keras.utils.plot_model(\n",
        "    model, to_file='model.png', show_shapes=False, show_dtype=False,\n",
        "    show_layer_names=True, rankdir='TB', expand_nested=False, dpi=96\n",
        ")"
      ],
      "metadata": {
        "colab": {
          "base_uri": "https://localhost:8080/",
          "height": 564
        },
        "id": "T5kSnmgWrntD",
        "outputId": "f9bbc197-6602-4f10-8520-ddfa052d78c3"
      },
      "execution_count": 114,
      "outputs": [
        {
          "output_type": "execute_result",
          "data": {
            "image/png": "[encoded data removed]",
            "text/plain": [
              "<IPython.core.display.Image object>"
            ]
          },
          "metadata": {},
          "execution_count": 114
        }
      ]
    }
  ]
}